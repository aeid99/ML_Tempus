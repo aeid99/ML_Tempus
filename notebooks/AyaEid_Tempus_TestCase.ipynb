{
 "cells": [
  {
   "cell_type": "markdown",
   "metadata": {},
   "source": [
    "Aya Eid\n",
    "\n",
    "\n",
    "Tempus Test Case\n",
    "\n",
    "2/23/2020\n",
    "\n",
    "My notes and justification for decisions are described below in headings and annotated throughout the code.  Please feel free to ask for more information if needed. \n",
    "Thank you."
   ]
  },
  {
   "cell_type": "markdown",
   "metadata": {},
   "source": [
    "# Include imports "
   ]
  },
  {
   "cell_type": "code",
   "execution_count": 1,
   "metadata": {},
   "outputs": [],
   "source": [
    "import pandas as pd\n",
    "import numpy as np\n",
    "import matplotlib.pyplot as plt\n",
    "import seaborn as sns\n",
    "import json\n",
    "%matplotlib inline"
   ]
  },
  {
   "cell_type": "markdown",
   "metadata": {},
   "source": [
    "# Reading in and structuring data"
   ]
  },
  {
   "cell_type": "markdown",
   "metadata": {},
   "source": [
    "Three files were provided and I assumed the features from the biomarkers file and those from the patient profiles were not redundant.  So in this section, I combine the features from biomarkers, the features from  patient profiles and the targets into a master data matrix, which I call \"data\".  "
   ]
  },
  {
   "cell_type": "code",
   "execution_count": 2,
   "metadata": {},
   "outputs": [],
   "source": [
    "targets = pd.read_csv('targets.csv')\n",
    "data = pd.read_csv('biomarkers.csv')"
   ]
  },
  {
   "cell_type": "code",
   "execution_count": 3,
   "metadata": {},
   "outputs": [],
   "source": [
    "# Connect biomarker and target data through biomarker_id in master data matrix\n",
    "data.insert(0,'patient_id', np.full(len(data),np.nan))\n",
    "data.insert(1,'target', np.full(len(data),np.nan))\n",
    "\n",
    "for b_iter in range(0, len(targets)):  \n",
    "    bid = targets.loc[b_iter]['biomarker_id']  \n",
    "    data.loc[data.biomarker_id==bid,'patient_id'] = targets.loc[b_iter,'patient_id']\n",
    "    data.loc[data.biomarker_id==bid,'target'] = targets.loc[b_iter,'target_label']\n"
   ]
  },
  {
   "cell_type": "code",
   "execution_count": 4,
   "metadata": {},
   "outputs": [
    {
     "data": {
      "text/html": [
       "<div>\n",
       "<style scoped>\n",
       "    .dataframe tbody tr th:only-of-type {\n",
       "        vertical-align: middle;\n",
       "    }\n",
       "\n",
       "    .dataframe tbody tr th {\n",
       "        vertical-align: top;\n",
       "    }\n",
       "\n",
       "    .dataframe thead th {\n",
       "        text-align: right;\n",
       "    }\n",
       "</style>\n",
       "<table border=\"1\" class=\"dataframe\">\n",
       "  <thead>\n",
       "    <tr style=\"text-align: right;\">\n",
       "      <th></th>\n",
       "      <th>patient_id</th>\n",
       "      <th>target</th>\n",
       "      <th>biomarker_id</th>\n",
       "      <th>BM00000</th>\n",
       "      <th>BM00001</th>\n",
       "      <th>BM00002</th>\n",
       "      <th>BM00003</th>\n",
       "      <th>BM00004</th>\n",
       "      <th>BM00005</th>\n",
       "      <th>BM00006</th>\n",
       "      <th>...</th>\n",
       "      <th>BM15147</th>\n",
       "      <th>BM15148</th>\n",
       "      <th>BM15149</th>\n",
       "      <th>BM15150</th>\n",
       "      <th>BM15151</th>\n",
       "      <th>BM15152</th>\n",
       "      <th>BM15153</th>\n",
       "      <th>BM15154</th>\n",
       "      <th>BM15155</th>\n",
       "      <th>BM15156</th>\n",
       "    </tr>\n",
       "  </thead>\n",
       "  <tbody>\n",
       "    <tr>\n",
       "      <td>0</td>\n",
       "      <td>2293769a5</td>\n",
       "      <td>0.0</td>\n",
       "      <td>100505de2</td>\n",
       "      <td>1</td>\n",
       "      <td>1</td>\n",
       "      <td>1</td>\n",
       "      <td>0</td>\n",
       "      <td>0</td>\n",
       "      <td>0</td>\n",
       "      <td>1</td>\n",
       "      <td>...</td>\n",
       "      <td>1</td>\n",
       "      <td>0</td>\n",
       "      <td>1</td>\n",
       "      <td>1</td>\n",
       "      <td>0</td>\n",
       "      <td>0</td>\n",
       "      <td>1</td>\n",
       "      <td>1.0</td>\n",
       "      <td>1</td>\n",
       "      <td>1</td>\n",
       "    </tr>\n",
       "    <tr>\n",
       "      <td>1</td>\n",
       "      <td>221da90e</td>\n",
       "      <td>1.0</td>\n",
       "      <td>10075c5c2</td>\n",
       "      <td>1</td>\n",
       "      <td>1</td>\n",
       "      <td>1</td>\n",
       "      <td>0</td>\n",
       "      <td>0</td>\n",
       "      <td>0</td>\n",
       "      <td>1</td>\n",
       "      <td>...</td>\n",
       "      <td>1</td>\n",
       "      <td>0</td>\n",
       "      <td>0</td>\n",
       "      <td>0</td>\n",
       "      <td>0</td>\n",
       "      <td>0</td>\n",
       "      <td>1</td>\n",
       "      <td>NaN</td>\n",
       "      <td>1</td>\n",
       "      <td>1</td>\n",
       "    </tr>\n",
       "    <tr>\n",
       "      <td>2</td>\n",
       "      <td>f379252a</td>\n",
       "      <td>1.0</td>\n",
       "      <td>10105cb22</td>\n",
       "      <td>1</td>\n",
       "      <td>1</td>\n",
       "      <td>1</td>\n",
       "      <td>0</td>\n",
       "      <td>0</td>\n",
       "      <td>0</td>\n",
       "      <td>1</td>\n",
       "      <td>...</td>\n",
       "      <td>1</td>\n",
       "      <td>0</td>\n",
       "      <td>0</td>\n",
       "      <td>0</td>\n",
       "      <td>0</td>\n",
       "      <td>0</td>\n",
       "      <td>1</td>\n",
       "      <td>NaN</td>\n",
       "      <td>1</td>\n",
       "      <td>1</td>\n",
       "    </tr>\n",
       "    <tr>\n",
       "      <td>3</td>\n",
       "      <td>1c9af69ad</td>\n",
       "      <td>0.0</td>\n",
       "      <td>101219d6e</td>\n",
       "      <td>1</td>\n",
       "      <td>0</td>\n",
       "      <td>1</td>\n",
       "      <td>0</td>\n",
       "      <td>0</td>\n",
       "      <td>0</td>\n",
       "      <td>0</td>\n",
       "      <td>...</td>\n",
       "      <td>1</td>\n",
       "      <td>0</td>\n",
       "      <td>0</td>\n",
       "      <td>0</td>\n",
       "      <td>0</td>\n",
       "      <td>0</td>\n",
       "      <td>1</td>\n",
       "      <td>1.0</td>\n",
       "      <td>1</td>\n",
       "      <td>1</td>\n",
       "    </tr>\n",
       "    <tr>\n",
       "      <td>4</td>\n",
       "      <td>378b948f</td>\n",
       "      <td>0.0</td>\n",
       "      <td>10135ad45</td>\n",
       "      <td>1</td>\n",
       "      <td>0</td>\n",
       "      <td>1</td>\n",
       "      <td>0</td>\n",
       "      <td>1</td>\n",
       "      <td>0</td>\n",
       "      <td>1</td>\n",
       "      <td>...</td>\n",
       "      <td>1</td>\n",
       "      <td>0</td>\n",
       "      <td>1</td>\n",
       "      <td>0</td>\n",
       "      <td>0</td>\n",
       "      <td>0</td>\n",
       "      <td>1</td>\n",
       "      <td>1.0</td>\n",
       "      <td>1</td>\n",
       "      <td>1</td>\n",
       "    </tr>\n",
       "  </tbody>\n",
       "</table>\n",
       "<p>5 rows × 15160 columns</p>\n",
       "</div>"
      ],
      "text/plain": [
       "  patient_id  target biomarker_id  BM00000  BM00001  BM00002  BM00003  \\\n",
       "0  2293769a5     0.0    100505de2        1        1        1        0   \n",
       "1   221da90e     1.0    10075c5c2        1        1        1        0   \n",
       "2   f379252a     1.0    10105cb22        1        1        1        0   \n",
       "3  1c9af69ad     0.0    101219d6e        1        0        1        0   \n",
       "4   378b948f     0.0    10135ad45        1        0        1        0   \n",
       "\n",
       "   BM00004  BM00005  BM00006  ...  BM15147  BM15148  BM15149  BM15150  \\\n",
       "0        0        0        1  ...        1        0        1        1   \n",
       "1        0        0        1  ...        1        0        0        0   \n",
       "2        0        0        1  ...        1        0        0        0   \n",
       "3        0        0        0  ...        1        0        0        0   \n",
       "4        1        0        1  ...        1        0        1        0   \n",
       "\n",
       "   BM15151  BM15152  BM15153  BM15154  BM15155  BM15156  \n",
       "0        0        0        1      1.0        1        1  \n",
       "1        0        0        1      NaN        1        1  \n",
       "2        0        0        1      NaN        1        1  \n",
       "3        0        0        1      1.0        1        1  \n",
       "4        0        0        1      1.0        1        1  \n",
       "\n",
       "[5 rows x 15160 columns]"
      ]
     },
     "execution_count": 4,
     "metadata": {},
     "output_type": "execute_result"
    }
   ],
   "source": [
    "data.head()"
   ]
  },
  {
   "cell_type": "code",
   "execution_count": 5,
   "metadata": {},
   "outputs": [
    {
     "name": "stdout",
     "output_type": "stream",
     "text": [
      "Progress read in:  0.0\n",
      "Progress read in:  0.16666666666666666\n",
      "Progress read in:  0.3333333333333333\n",
      "Progress read in:  0.5\n",
      "Progress read in:  0.6666666666666666\n",
      "Progress read in:  0.8333333333333334\n",
      "Progress read in:  1.0\n"
     ]
    }
   ],
   "source": [
    "# Next we connect the patient profile data to master data through the patient id  \n",
    "# while this isn't the fastest, it could be optimized or parallelized for larger datasets\n",
    "with open(\"patient_profiles.json\", \"r\") as read_file:\n",
    "    patient_profiles = json.load(read_file)\n",
    "\n",
    "def check(val):\n",
    "    if val:\n",
    "        return val\n",
    "    else:\n",
    "        return np.nan\n",
    "    \n",
    "data['institution'] = np.full(len(data),np.nan)\n",
    "data['gender'] = np.full(len(data),np.nan)\n",
    "data['age'] = np.full(len(data),np.nan)\n",
    "data['race'] = np.full(len(data),np.nan)\n",
    "data['dst'] = np.full(len(data),np.nan)\n",
    "data['comind'] = np.full(len(data),np.nan)\n",
    "data['coq'] = np.full(len(data),np.nan)\n",
    "data['smoking'] = np.full(len(data),np.nan)\n",
    "data['msd'] = np.full(len(data),np.nan)\n",
    "\n",
    "for inst_iter in range(0,len(patient_profiles)):\n",
    "    print('Progress read in: ', inst_iter/(len(patient_profiles)-1))\n",
    "          \n",
    "    for p_iter in range(0,len(patient_profiles[inst_iter]['patient_profiles'])):           \n",
    "        pid = patient_profiles[inst_iter]['patient_profiles'][p_iter]['patient_id']\n",
    "        ploc = data['patient_id']==pid\n",
    "\n",
    "        if(np.sum(ploc)>0):\n",
    "            data.loc[data['patient_id']==pid,'institution'] = check(patient_profiles[inst_iter]['institution'])\n",
    "            data.loc[data['patient_id']==pid,'gender'] = check(patient_profiles[inst_iter]['patient_profiles'][p_iter]['demographics'].get('gender'))\n",
    "            data.loc[data['patient_id']==pid,'age'] = check(patient_profiles[inst_iter]['patient_profiles'][p_iter]['demographics'].get('age'))        \n",
    "            data.loc[data['patient_id']==pid,'race'] = check(patient_profiles[inst_iter]['patient_profiles'][p_iter]['demographics'].get('race'))\n",
    "            data.loc[data['patient_id']==pid,'dst'] = patient_profiles[inst_iter]['patient_profiles'][p_iter]['status'].get('disease_sub_type')\n",
    "            \n",
    "            data.loc[data['patient_id']==pid,'comind'] = check(patient_profiles[inst_iter]['patient_profiles'][p_iter]['status'].get('comorbidity_index'))\n",
    "            data.loc[data['patient_id']==pid,'coq'] = check(patient_profiles[inst_iter]['patient_profiles'][p_iter]['status'].get('cohort_qualifier'))\n",
    "            data.loc[data['patient_id']==pid,'smoking'] = check(patient_profiles[inst_iter]['patient_profiles'][p_iter]['status'].get('smoking_status'))\n",
    "            data.loc[data['patient_id']==pid,'msd'] = check(patient_profiles[inst_iter]['patient_profiles'][p_iter]['status'].get('months_since_diagnosis'))\n",
    "              "
   ]
  },
  {
   "cell_type": "code",
   "execution_count": 6,
   "metadata": {},
   "outputs": [
    {
     "name": "stdout",
     "output_type": "stream",
     "text": [
      "<class 'pandas.core.frame.DataFrame'>\n",
      "RangeIndex: 1960 entries, 0 to 1959\n",
      "Columns: 15169 entries, patient_id to msd\n",
      "dtypes: float64(50), int64(15111), object(8)\n",
      "memory usage: 226.8+ MB\n"
     ]
    }
   ],
   "source": [
    "data.info()"
   ]
  },
  {
   "cell_type": "markdown",
   "metadata": {},
   "source": [
    "# Data Cleaning"
   ]
  },
  {
   "cell_type": "markdown",
   "metadata": {},
   "source": [
    "Now I go through some basic approaches to ensuring the data can be handled by the model.  My process includes removing observations without targets, removing features that have too many missing values, and filling in missing values (although certain algorithms XGB for example could handle missing values).  For categorical data I used one-hot encoding to convert them into numerical inputs. "
   ]
  },
  {
   "cell_type": "code",
   "execution_count": 7,
   "metadata": {},
   "outputs": [
    {
     "data": {
      "image/png": "[encoded data removed]",
      "text/plain": [
       "<Figure size 864x216 with 1 Axes>"
      ]
     },
     "metadata": {
      "needs_background": "light"
     },
     "output_type": "display_data"
    }
   ],
   "source": [
    "# Remove any observations without target data\n",
    "dataCleaned = data.copy();\n",
    "dataCleaned.dropna(subset=['target'],inplace=True)  \n",
    "\n",
    "# Let's take a look at how many features have missing values\n",
    "ratioOfNans = dataCleaned.isnull().sum()/len(dataCleaned)\n",
    "plt.figure(figsize=(12,3))\n",
    "plt.plot(ratioOfNans[ratioOfNans>0])\n",
    "plt.xticks(rotation=90) \n",
    "plt.ylabel('Proportion of Missing Observations')\n",
    "plt.show()"
   ]
  },
  {
   "cell_type": "code",
   "execution_count": 8,
   "metadata": {},
   "outputs": [],
   "source": [
    "# For simplicity, let's just remove any features with more than 5% missing values\n",
    "dataCleaned.dropna(axis=1, thresh = 100, inplace=True)"
   ]
  },
  {
   "cell_type": "code",
   "execution_count": 9,
   "metadata": {},
   "outputs": [],
   "source": [
    "# Now for the categorical features, let's use one-hot encoding\n",
    "cat_feats = ['institution','dst','gender','race','smoking']  \n",
    "\n",
    "# Here I use a simple approach to ensuring the categories would bin appropriately (eg. MALE and male were considered the same observation)\n",
    "dataCleaned = dataCleaned.applymap(lambda s:s.lower() if type(s) == str else s)  \n",
    "dataCleaned = pd.get_dummies(dataCleaned, columns=cat_feats, drop_first=True)\n",
    "\n",
    "# Here I found one feature that came from an input of \"unknown\" which is synomous with \"NaN\"\n",
    "# another approach is to replace all table values of \"unknown\" with \"NaN\" earlier. But this was the only feature in which I saw this\n",
    "dataCleaned.drop('smoking_unknown',axis=1,inplace=True)  \n",
    "dataCleaned.fillna(0,inplace=True)  # not an ideal fill, but I wanted to keep it simple.  Also, XGBoost can handle them (future iteration)"
   ]
  },
  {
   "cell_type": "code",
   "execution_count": 10,
   "metadata": {},
   "outputs": [
    {
     "data": {
      "text/html": [
       "<div>\n",
       "<style scoped>\n",
       "    .dataframe tbody tr th:only-of-type {\n",
       "        vertical-align: middle;\n",
       "    }\n",
       "\n",
       "    .dataframe tbody tr th {\n",
       "        vertical-align: top;\n",
       "    }\n",
       "\n",
       "    .dataframe thead th {\n",
       "        text-align: right;\n",
       "    }\n",
       "</style>\n",
       "<table border=\"1\" class=\"dataframe\">\n",
       "  <thead>\n",
       "    <tr style=\"text-align: right;\">\n",
       "      <th></th>\n",
       "      <th>BM15153</th>\n",
       "      <th>BM15154</th>\n",
       "      <th>BM15155</th>\n",
       "      <th>BM15156</th>\n",
       "      <th>age</th>\n",
       "      <th>comind</th>\n",
       "      <th>coq</th>\n",
       "      <th>msd</th>\n",
       "      <th>institution_goodfellow research institute</th>\n",
       "      <th>institution_johnson &amp; bloom hospitals</th>\n",
       "      <th>...</th>\n",
       "      <th>dst_d</th>\n",
       "      <th>dst_e</th>\n",
       "      <th>dst_f</th>\n",
       "      <th>gender_male</th>\n",
       "      <th>race_asian</th>\n",
       "      <th>race_black or african american</th>\n",
       "      <th>race_native hawaiian or other pacific islander</th>\n",
       "      <th>race_white</th>\n",
       "      <th>smoking_former</th>\n",
       "      <th>smoking_never</th>\n",
       "    </tr>\n",
       "  </thead>\n",
       "  <tbody>\n",
       "    <tr>\n",
       "      <td>0</td>\n",
       "      <td>1</td>\n",
       "      <td>1.0</td>\n",
       "      <td>1</td>\n",
       "      <td>1</td>\n",
       "      <td>0.0</td>\n",
       "      <td>0.0</td>\n",
       "      <td>True</td>\n",
       "      <td>0.0</td>\n",
       "      <td>1</td>\n",
       "      <td>0</td>\n",
       "      <td>...</td>\n",
       "      <td>0</td>\n",
       "      <td>0</td>\n",
       "      <td>0</td>\n",
       "      <td>1</td>\n",
       "      <td>0</td>\n",
       "      <td>0</td>\n",
       "      <td>0</td>\n",
       "      <td>0</td>\n",
       "      <td>0</td>\n",
       "      <td>0</td>\n",
       "    </tr>\n",
       "    <tr>\n",
       "      <td>1</td>\n",
       "      <td>1</td>\n",
       "      <td>0.0</td>\n",
       "      <td>1</td>\n",
       "      <td>1</td>\n",
       "      <td>29.0</td>\n",
       "      <td>0.0</td>\n",
       "      <td>True</td>\n",
       "      <td>79.0</td>\n",
       "      <td>0</td>\n",
       "      <td>0</td>\n",
       "      <td>...</td>\n",
       "      <td>0</td>\n",
       "      <td>0</td>\n",
       "      <td>0</td>\n",
       "      <td>1</td>\n",
       "      <td>0</td>\n",
       "      <td>0</td>\n",
       "      <td>0</td>\n",
       "      <td>0</td>\n",
       "      <td>0</td>\n",
       "      <td>1</td>\n",
       "    </tr>\n",
       "    <tr>\n",
       "      <td>2</td>\n",
       "      <td>1</td>\n",
       "      <td>0.0</td>\n",
       "      <td>1</td>\n",
       "      <td>1</td>\n",
       "      <td>66.0</td>\n",
       "      <td>1.0</td>\n",
       "      <td>True</td>\n",
       "      <td>0.0</td>\n",
       "      <td>0</td>\n",
       "      <td>0</td>\n",
       "      <td>...</td>\n",
       "      <td>0</td>\n",
       "      <td>0</td>\n",
       "      <td>0</td>\n",
       "      <td>1</td>\n",
       "      <td>0</td>\n",
       "      <td>0</td>\n",
       "      <td>0</td>\n",
       "      <td>1</td>\n",
       "      <td>0</td>\n",
       "      <td>0</td>\n",
       "    </tr>\n",
       "    <tr>\n",
       "      <td>3</td>\n",
       "      <td>1</td>\n",
       "      <td>1.0</td>\n",
       "      <td>1</td>\n",
       "      <td>1</td>\n",
       "      <td>69.0</td>\n",
       "      <td>0.0</td>\n",
       "      <td>True</td>\n",
       "      <td>0.0</td>\n",
       "      <td>0</td>\n",
       "      <td>0</td>\n",
       "      <td>...</td>\n",
       "      <td>0</td>\n",
       "      <td>0</td>\n",
       "      <td>0</td>\n",
       "      <td>1</td>\n",
       "      <td>0</td>\n",
       "      <td>1</td>\n",
       "      <td>0</td>\n",
       "      <td>0</td>\n",
       "      <td>0</td>\n",
       "      <td>0</td>\n",
       "    </tr>\n",
       "    <tr>\n",
       "      <td>4</td>\n",
       "      <td>1</td>\n",
       "      <td>1.0</td>\n",
       "      <td>1</td>\n",
       "      <td>1</td>\n",
       "      <td>56.0</td>\n",
       "      <td>0.0</td>\n",
       "      <td>True</td>\n",
       "      <td>0.0</td>\n",
       "      <td>0</td>\n",
       "      <td>0</td>\n",
       "      <td>...</td>\n",
       "      <td>0</td>\n",
       "      <td>0</td>\n",
       "      <td>0</td>\n",
       "      <td>0</td>\n",
       "      <td>0</td>\n",
       "      <td>1</td>\n",
       "      <td>0</td>\n",
       "      <td>0</td>\n",
       "      <td>0</td>\n",
       "      <td>1</td>\n",
       "    </tr>\n",
       "  </tbody>\n",
       "</table>\n",
       "<p>5 rows × 25 columns</p>\n",
       "</div>"
      ],
      "text/plain": [
       "   BM15153  BM15154  BM15155  BM15156   age  comind   coq   msd  \\\n",
       "0        1      1.0        1        1   0.0     0.0  True   0.0   \n",
       "1        1      0.0        1        1  29.0     0.0  True  79.0   \n",
       "2        1      0.0        1        1  66.0     1.0  True   0.0   \n",
       "3        1      1.0        1        1  69.0     0.0  True   0.0   \n",
       "4        1      1.0        1        1  56.0     0.0  True   0.0   \n",
       "\n",
       "   institution_goodfellow research institute  \\\n",
       "0                                          1   \n",
       "1                                          0   \n",
       "2                                          0   \n",
       "3                                          0   \n",
       "4                                          0   \n",
       "\n",
       "   institution_johnson & bloom hospitals  ...  dst_d  dst_e  dst_f  \\\n",
       "0                                      0  ...      0      0      0   \n",
       "1                                      0  ...      0      0      0   \n",
       "2                                      0  ...      0      0      0   \n",
       "3                                      0  ...      0      0      0   \n",
       "4                                      0  ...      0      0      0   \n",
       "\n",
       "   gender_male  race_asian  race_black or african american  \\\n",
       "0            1           0                               0   \n",
       "1            1           0                               0   \n",
       "2            1           0                               0   \n",
       "3            1           0                               1   \n",
       "4            0           0                               1   \n",
       "\n",
       "   race_native hawaiian or other pacific islander  race_white  smoking_former  \\\n",
       "0                                               0           0               0   \n",
       "1                                               0           0               0   \n",
       "2                                               0           1               0   \n",
       "3                                               0           0               0   \n",
       "4                                               0           0               0   \n",
       "\n",
       "   smoking_never  \n",
       "0              0  \n",
       "1              1  \n",
       "2              0  \n",
       "3              0  \n",
       "4              1  \n",
       "\n",
       "[5 rows x 25 columns]"
      ]
     },
     "execution_count": 10,
     "metadata": {},
     "output_type": "execute_result"
    }
   ],
   "source": [
    "# Let's take a look at the new features\n",
    "dataCleaned.iloc[:,-25:].head()"
   ]
  },
  {
   "cell_type": "markdown",
   "metadata": {},
   "source": [
    "# Building a model"
   ]
  },
  {
   "cell_type": "markdown",
   "metadata": {},
   "source": [
    "Now that the data is prepared, I made a couple first order attempts at building the model.  To do this I first separate training and test sets.  I started with a RF classifier to get a baseline of predictor strength.  It was clear the data was imbalanced and a boosted algorithm would improve the model.  I then used the Gradient Boosting Classifier and found marked improvement.  Finally, I performed some basic parameter tuning, which slightly improved the model.  "
   ]
  },
  {
   "cell_type": "code",
   "execution_count": 11,
   "metadata": {},
   "outputs": [],
   "source": [
    "# First separate the data into test and train sets\n",
    "from sklearn.model_selection import train_test_split\n",
    "from sklearn.metrics import classification_report, confusion_matrix, f1_score\n",
    "X = dataCleaned.drop(['target','biomarker_id','patient_id'],axis=1)\n",
    "y = dataCleaned['target']\n",
    "\n",
    "X_train, X_test, y_train, y_test = train_test_split(X, y, test_size=0.3, random_state=42)"
   ]
  },
  {
   "cell_type": "code",
   "execution_count": 12,
   "metadata": {},
   "outputs": [
    {
     "name": "stdout",
     "output_type": "stream",
     "text": [
      "              precision    recall  f1-score   support\n",
      "\n",
      "         0.0       1.00      0.78      0.88       521\n",
      "         1.0       0.00      0.00      0.00         0\n",
      "\n",
      "    accuracy                           0.78       521\n",
      "   macro avg       0.50      0.39      0.44       521\n",
      "weighted avg       1.00      0.78      0.88       521\n",
      "\n",
      "[[406 115]\n",
      " [  0   0]]\n"
     ]
    },
    {
     "name": "stderr",
     "output_type": "stream",
     "text": [
      "C:\\Users\\ayaei\\Anaconda3\\lib\\site-packages\\sklearn\\metrics\\classification.py:1439: UndefinedMetricWarning: Recall and F-score are ill-defined and being set to 0.0 in labels with no true samples.\n",
      "  'recall', 'true', average, warn_for)\n"
     ]
    }
   ],
   "source": [
    "# Here we get a feeling for how well a RF classifier will do\n",
    "from sklearn.ensemble import RandomForestClassifier\n",
    "model = RandomForestClassifier(n_estimators=50, random_state=101)\n",
    "model.fit(X_train, y_train)\n",
    "predictions = np.round(model.predict(X_test))\n",
    "\n",
    "print(classification_report(predictions, y_test))\n",
    "print(confusion_matrix(predictions, y_test))\n",
    "\n",
    "# We see here because this model is a bit imbalanced, \n",
    "# the best resulting model is as good as naively classifying all outputs as negatives. \n",
    "# While the TN rate is good, the TPR is terrible\n",
    "# This is an ideal data set for a boosted approach "
   ]
  },
  {
   "cell_type": "code",
   "execution_count": 13,
   "metadata": {
    "scrolled": false
   },
   "outputs": [
    {
     "name": "stdout",
     "output_type": "stream",
     "text": [
      "\n",
      "Model Report\n",
      "Accuracy : 0.8887\n",
      "AUC Score (Test): 0.934\n",
      "              precision    recall  f1-score   support\n",
      "\n",
      "         0.0       0.98      0.89      0.93       448\n",
      "         1.0       0.57      0.89      0.69        73\n",
      "\n",
      "    accuracy                           0.89       521\n",
      "   macro avg       0.77      0.89      0.81       521\n",
      "weighted avg       0.92      0.89      0.90       521\n",
      "\n",
      "\n",
      "Confusion Matrix\n",
      "[[398  50]\n",
      " [  8  65]]\n",
      "\n",
      "Model Paramters\n",
      "GradientBoostingClassifier(criterion='friedman_mse', init=None,\n",
      "                           learning_rate=0.1, loss='deviance', max_depth=3,\n",
      "                           max_features=None, max_leaf_nodes=None,\n",
      "                           min_impurity_decrease=0.0, min_impurity_split=None,\n",
      "                           min_samples_leaf=1, min_samples_split=2,\n",
      "                           min_weight_fraction_leaf=0.0, n_estimators=50,\n",
      "                           n_iter_no_change=None, presort='auto',\n",
      "                           random_state=101, subsample=1.0, tol=0.0001,\n",
      "                           validation_fraction=0.1, verbose=0,\n",
      "                           warm_start=False)\n"
     ]
    },
    {
     "data": {
      "image/png": "[encoded data removed]",
      "text/plain": [
       "<Figure size 432x288 with 1 Axes>"
      ]
     },
     "metadata": {
      "needs_background": "light"
     },
     "output_type": "display_data"
    }
   ],
   "source": [
    "# Let's use GBM to improve upon this.  \n",
    "# Again starting here with a baseline model, we use the default values\n",
    "# and evaluate its performance \n",
    "\n",
    "from sklearn import metrics \n",
    "from sklearn.ensemble import GradientBoostingClassifier\n",
    "from sklearn.model_selection import cross_validate, cross_val_score, GridSearchCV\n",
    "\n",
    "# First order model (no parameter tuning...yet)\n",
    "model = GradientBoostingClassifier(random_state=101, n_estimators=50)\n",
    "model.fit(X_train, y_train)\n",
    "predictions = model.predict(X_test)\n",
    "pred_prob = model.predict_proba(X_test)[:,1]\n",
    "\n",
    "# Print model report\n",
    "print(\"\\nModel Report\")\n",
    "print(\"Accuracy : %.4g\" % metrics.accuracy_score(y_test, predictions))\n",
    "print(\"AUC Score (Test): %4.3f\" % metrics.roc_auc_score(y_test, pred_prob))\n",
    "print(classification_report(predictions, y_test))\n",
    "\n",
    "print(\"\\nConfusion Matrix\")\n",
    "print(confusion_matrix(predictions, y_test))\n",
    "\n",
    "print('\\nModel Paramters')\n",
    "print(model)\n",
    "\n",
    "# Let's take a look at which features are playing the biggest role\n",
    "f_imp = pd.Series(model.feature_importances_, list(X_train)).sort_values(ascending=False)\n",
    "f_imp.iloc[0:20].plot(kind='bar', title='Feature Importance')\n",
    "plt.ylim([0,.1])\n",
    "plt.show()\n"
   ]
  },
  {
   "cell_type": "markdown",
   "metadata": {},
   "source": [
    "Now let's do some basic tuning.  My process goes as follows.  First I consider the number of number of estimators or trees used to compute the model.  I want to personally cap it at 100 since I am limited by the computational power of my laptop. Let's ensure that the learning rate (LR) is appropriate for a max n_estimators of 100. \n",
    "\n",
    "Second, we can tune one or more tree parameters.  I chose only to look at max_depth.  When capped it should prevent overfitting and allow for a more generalizeable model. "
   ]
  },
  {
   "cell_type": "code",
   "execution_count": 14,
   "metadata": {},
   "outputs": [
    {
     "name": "stdout",
     "output_type": "stream",
     "text": [
      "Fitting 5 folds for each of 8 candidates, totalling 40 fits\n"
     ]
    },
    {
     "name": "stderr",
     "output_type": "stream",
     "text": [
      "[Parallel(n_jobs=4)]: Using backend LokyBackend with 4 concurrent workers.\n",
      "[Parallel(n_jobs=4)]: Done  40 out of  40 | elapsed: 12.1min finished\n"
     ]
    },
    {
     "data": {
      "text/plain": [
       "({'n_estimators': 50}, 0.9241551993190524)"
      ]
     },
     "execution_count": 14,
     "metadata": {},
     "output_type": "execute_result"
    }
   ],
   "source": [
    "# Tuning n_estimators for a learning rate of 0.1\n",
    "param_test = {'n_estimators':range(25,201,25)}\n",
    "gsearch = GridSearchCV(estimator = GradientBoostingClassifier(learning_rate = 0.1, \n",
    "                                                               min_samples_split = 2,\n",
    "                                                               min_samples_leaf = 1,\n",
    "                                                               max_depth = 3, \n",
    "                                                               max_features = None,\n",
    "                                                               subsample = 0.8, \n",
    "                                                               random_state = 101), \n",
    "                        param_grid = param_test, scoring='roc_auc', n_jobs=4, iid=False, cv=5, verbose=1)\n",
    "gsearch.fit(X_train,y_train)\n",
    "n_estimators_B = gsearch.best_params_['n_estimators']\n",
    "gsearch.best_params_, gsearch.best_score_\n",
    "\n",
    "\n",
    "# Finding a value of 50 shows the LR may be just fine"
   ]
  },
  {
   "cell_type": "code",
   "execution_count": 15,
   "metadata": {},
   "outputs": [
    {
     "name": "stdout",
     "output_type": "stream",
     "text": [
      "Fitting 3 folds for each of 9 candidates, totalling 27 fits\n"
     ]
    },
    {
     "name": "stderr",
     "output_type": "stream",
     "text": [
      "[Parallel(n_jobs=4)]: Using backend LokyBackend with 4 concurrent workers.\n",
      "[Parallel(n_jobs=4)]: Done  27 out of  27 | elapsed:  8.8min finished\n"
     ]
    },
    {
     "data": {
      "text/plain": [
       "({'max_depth': 5}, 0.9264196321122791)"
      ]
     },
     "execution_count": 15,
     "metadata": {},
     "output_type": "execute_result"
    }
   ],
   "source": [
    "# Let's tune max_depth to keep to smaller trees and prevent overfitting\n",
    "param_test = {'max_depth':range(1,10,1)}\n",
    "gsearch = GridSearchCV(estimator = GradientBoostingClassifier(learning_rate = 0.1, \n",
    "                                                              n_estimators = n_estimators_B,\n",
    "                                                              max_features = None,\n",
    "                                                              min_samples_split = 2, \n",
    "                                                              min_samples_leaf = 1,\n",
    "                                                              subsample = 0.8, \n",
    "                                                              random_state = 101), \n",
    "                        param_grid = param_test, scoring='roc_auc', n_jobs=4, iid=False, cv=3, verbose=1)\n",
    "gsearch.fit(X_train,y_train)\n",
    "max_depth_B = gsearch.best_params_['max_depth']\n",
    "gsearch.best_params_, gsearch.best_score_"
   ]
  },
  {
   "cell_type": "code",
   "execution_count": 16,
   "metadata": {},
   "outputs": [
    {
     "name": "stdout",
     "output_type": "stream",
     "text": [
      "\n",
      "Model Report\n",
      "Accuracy : 0.8925\n",
      "AUC Score (Test): 0.926\n",
      "              precision    recall  f1-score   support\n",
      "\n",
      "         0.0       0.98      0.89      0.93       444\n",
      "         1.0       0.59      0.88      0.71        77\n",
      "\n",
      "    accuracy                           0.89       521\n",
      "   macro avg       0.78      0.89      0.82       521\n",
      "weighted avg       0.92      0.89      0.90       521\n",
      "\n",
      "\n",
      "Confusion Matrix\n",
      "[[397  47]\n",
      " [  9  68]]\n",
      "\n",
      "Model Paramters\n",
      "GradientBoostingClassifier(criterion='friedman_mse', init=None,\n",
      "                           learning_rate=0.1, loss='deviance', max_depth=5,\n",
      "                           max_features=None, max_leaf_nodes=None,\n",
      "                           min_impurity_decrease=0.0, min_impurity_split=None,\n",
      "                           min_samples_leaf=1, min_samples_split=2,\n",
      "                           min_weight_fraction_leaf=0.0, n_estimators=50,\n",
      "                           n_iter_no_change=None, presort='auto',\n",
      "                           random_state=101, subsample=0.8, tol=0.0001,\n",
      "                           validation_fraction=0.1, verbose=0,\n",
      "                           warm_start=False)\n"
     ]
    },
    {
     "data": {
      "image/png": "[encoded data removed]",
      "text/plain": [
       "<Figure size 432x288 with 1 Axes>"
      ]
     },
     "metadata": {
      "needs_background": "light"
     },
     "output_type": "display_data"
    }
   ],
   "source": [
    "# Second order model, with new input values\n",
    "model = GradientBoostingClassifier(random_state = 101, \n",
    "                                   learning_rate = 0.1, \n",
    "                                   n_estimators = n_estimators_B, \n",
    "                                   max_depth = max_depth_B, \n",
    "                                   min_samples_split = 2, \n",
    "                                   min_samples_leaf = 1,\n",
    "                                   subsample = 0.8)\n",
    "model.fit(X_train, y_train)\n",
    "predictions = model.predict(X_test)\n",
    "pred_prob = model.predict_proba(X_test)[:,1]\n",
    "\n",
    "# Print model report\n",
    "print(\"\\nModel Report\")\n",
    "print(\"Accuracy : %.4g\" % metrics.accuracy_score(y_test, predictions))\n",
    "print(\"AUC Score (Test): %4.3f\" % metrics.roc_auc_score(y_test, pred_prob))\n",
    "print(classification_report(predictions, y_test))\n",
    "\n",
    "print(\"\\nConfusion Matrix\")\n",
    "print(confusion_matrix(predictions, y_test))\n",
    "\n",
    "print('\\nModel Paramters')\n",
    "print(model)\n",
    "\n",
    "# Let's take a look at which features are playing the biggest role\n",
    "f_imp = pd.Series(model.feature_importances_, list(X_train)).sort_values(ascending=False)\n",
    "f_imp.iloc[0:20].plot(kind='bar', title='Feature Importance')\n",
    "plt.ylim([0,.1])\n",
    "plt.show()"
   ]
  },
  {
   "cell_type": "markdown",
   "metadata": {},
   "source": [
    "At a bit of a cost to the TN rate, we see a marked improvement in the TP rate, yielding an overall improvement in accuracy.  We see this in an unchanged F1-score for targets of 0, and improved F1-sore for targets of 1.  Finally, as visualized in the figure, there is a slight shift in the order and importance of several features from the baseline model, although consistently, BM10516 is significantly more important than the others for optimal classification.  "
   ]
  },
  {
   "cell_type": "code",
   "execution_count": 18,
   "metadata": {},
   "outputs": [],
   "source": [
    "# Finally let's save the model to share\n",
    "import pickle\n",
    "filename = 'tempus_model.pkl'\n",
    "pickle.dump(model, open(filename, 'wb'))"
   ]
  }
 ],
 "metadata": {
  "kernelspec": {
   "display_name": "Python 3",
   "language": "python",
   "name": "python3"
  },
  "language_info": {
   "codemirror_mode": {
    "name": "ipython",
    "version": 3
   },
   "file_extension": ".py",
   "mimetype": "text/x-python",
   "name": "python",
   "nbconvert_exporter": "python",
   "pygments_lexer": "ipython3",
   "version": "3.7.4"
  }
 },
 "nbformat": 4,
 "nbformat_minor": 2
}
