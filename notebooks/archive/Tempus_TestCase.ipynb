{
 "cells": [
  {
   "cell_type": "markdown",
   "metadata": {},
   "source": [
    "Aya Eid\n",
    "\n",
    "Tempus Test Case"
   ]
  },
  {
   "cell_type": "markdown",
   "metadata": {},
   "source": [
    "# Include imports "
   ]
  },
  {
   "cell_type": "code",
   "execution_count": 1,
   "metadata": {},
   "outputs": [],
   "source": [
    "import pandas as pd\n",
    "import numpy as np\n",
    "import matplotlib.pyplot as plt\n",
    "import seaborn as sns\n",
    "import json\n",
    "%matplotlib inline"
   ]
  },
  {
   "cell_type": "markdown",
   "metadata": {},
   "source": [
    "# Reading in and structuring data"
   ]
  },
  {
   "cell_type": "code",
   "execution_count": 26,
   "metadata": {},
   "outputs": [],
   "source": [
    "targets = pd.read_csv('targets.csv')\n",
    "features = pd.read_csv('biomarkers.csv')"
   ]
  },
  {
   "cell_type": "code",
   "execution_count": 27,
   "metadata": {},
   "outputs": [
    {
     "data": {
      "text/html": [
       "<div>\n",
       "<style scoped>\n",
       "    .dataframe tbody tr th:only-of-type {\n",
       "        vertical-align: middle;\n",
       "    }\n",
       "\n",
       "    .dataframe tbody tr th {\n",
       "        vertical-align: top;\n",
       "    }\n",
       "\n",
       "    .dataframe thead th {\n",
       "        text-align: right;\n",
       "    }\n",
       "</style>\n",
       "<table border=\"1\" class=\"dataframe\">\n",
       "  <thead>\n",
       "    <tr style=\"text-align: right;\">\n",
       "      <th></th>\n",
       "      <th>patient_id</th>\n",
       "      <th>biomarker_id</th>\n",
       "      <th>target_label</th>\n",
       "    </tr>\n",
       "  </thead>\n",
       "  <tbody>\n",
       "    <tr>\n",
       "      <td>0</td>\n",
       "      <td>1002df1d3</td>\n",
       "      <td>89c43bb4</td>\n",
       "      <td>0</td>\n",
       "    </tr>\n",
       "    <tr>\n",
       "      <td>1</td>\n",
       "      <td>1010441f</td>\n",
       "      <td>3ae31327</td>\n",
       "      <td>0</td>\n",
       "    </tr>\n",
       "    <tr>\n",
       "      <td>2</td>\n",
       "      <td>101eb6af1</td>\n",
       "      <td>1d8f7bab9</td>\n",
       "      <td>0</td>\n",
       "    </tr>\n",
       "    <tr>\n",
       "      <td>3</td>\n",
       "      <td>10204394e</td>\n",
       "      <td>129ee8c6c</td>\n",
       "      <td>0</td>\n",
       "    </tr>\n",
       "    <tr>\n",
       "      <td>4</td>\n",
       "      <td>1021d329b</td>\n",
       "      <td>1b44145bd</td>\n",
       "      <td>0</td>\n",
       "    </tr>\n",
       "  </tbody>\n",
       "</table>\n",
       "</div>"
      ],
      "text/plain": [
       "  patient_id biomarker_id  target_label\n",
       "0  1002df1d3     89c43bb4             0\n",
       "1   1010441f     3ae31327             0\n",
       "2  101eb6af1    1d8f7bab9             0\n",
       "3  10204394e    129ee8c6c             0\n",
       "4  1021d329b    1b44145bd             0"
      ]
     },
     "execution_count": 27,
     "metadata": {},
     "output_type": "execute_result"
    }
   ],
   "source": [
    "# taking a look \n",
    "targets.head()"
   ]
  },
  {
   "cell_type": "code",
   "execution_count": 28,
   "metadata": {},
   "outputs": [],
   "source": [
    "# Here we set up the data set\n",
    "# if there's no target, there's no need for that observation, so we start first with the biomarker id\n",
    "data = pd.DataFrame(columns=['biomarker_id','patient_id','target','institution','gender','age','race','dst','comind','coq','smoking','msd'])\n",
    "data['biomarker_id'] = targets['biomarker_id']\n",
    "data['patient_id'] = targets['patient_id']\n",
    "data['target'] = targets['target_label']"
   ]
  },
  {
   "cell_type": "code",
   "execution_count": 5,
   "metadata": {},
   "outputs": [],
   "source": [
    "# Next we connect the biomarker id to the patient id to get additional data points\n",
    "with open(\"patient_profiles.json\", \"r\") as read_file:\n",
    "    patient_profiles = json.load(read_file)\n"
   ]
  },
  {
   "cell_type": "code",
   "execution_count": 34,
   "metadata": {},
   "outputs": [
    {
     "name": "stdout",
     "output_type": "stream",
     "text": [
      "Read in:  0.0\n",
      "Read in:  0.16666666666666666\n",
      "Read in:  0.3333333333333333\n",
      "Read in:  0.5\n",
      "Read in:  0.6666666666666666\n",
      "Read in:  0.8333333333333334\n",
      "Read in:  1.0\n"
     ]
    }
   ],
   "source": [
    "# while this isn't the fastest, it could be optimized or parallelized for larger datasets\n",
    "def check(val):\n",
    "    if val:\n",
    "        return val\n",
    "    else:\n",
    "        return np.nan\n",
    "    \n",
    "def gToBinary(gStr):\n",
    "    gStr = check(gStr)\n",
    "    if gStr.lower() == 'male':\n",
    "        return 0\n",
    "    elif gStr.lower() == 'female':\n",
    "        return 1\n",
    "    \n",
    "\n",
    "for inst_ind in range(0,len(patient_profiles)):\n",
    "    print('Read in: ', inst_ind/(len(patient_profiles)-1))\n",
    "          \n",
    "    for pat_ind in range(0, len(patient_profiles[inst_ind][\"patient_profiles\"])):   \n",
    "        pid = patient_profiles[inst_ind][\"patient_profiles\"][pat_ind]['patient_id']\n",
    "        ploc = data['patient_id']==pid\n",
    "               \n",
    "        data['institution'].loc[ploc] = check(patient_profiles[inst_ind][\"institution\"])\n",
    "        data['gender'].loc[ploc] = check(patient_profiles[inst_ind][\"patient_profiles\"][pat_ind]['demographics'].get('gender'))\n",
    "        data['age'].loc[ploc] = check(patient_profiles[inst_ind][\"patient_profiles\"][pat_ind]['demographics'].get('age'))        \n",
    "        data['race'].loc[data['biomarker_id']==pid] = check(patient_profiles[inst_ind][\"patient_profiles\"][pat_ind]['demographics'].get('race'))\n",
    "        \n",
    "        data['dst'].loc[data['biomarker_id']==pid] = check(patient_profiles[inst_ind][\"patient_profiles\"][pat_ind]['status'].get('disease_sub_type'))\n",
    "        data['comind'].loc[data['biomarker_id']==pid] = check(patient_profiles[inst_ind][\"patient_profiles\"][pat_ind]['status'].get('comorbidity_index'))\n",
    "        data['coq'].loc[data['biomarker_id']==pid] = check(patient_profiles[inst_ind][\"patient_profiles\"][pat_ind]['status'].get('cohort_qualifier'))\n",
    "        data['smoking'].loc[data['biomarker_id']==pid] = check(patient_profiles[inst_ind][\"patient_profiles\"][pat_ind]['status'].get('smoking_status'))\n",
    "        data['msd'].loc[data['biomarker_id']==pid] = check(patient_profiles[inst_ind][\"patient_profiles\"][pat_ind]['status'].get('months_since_diagnosis'))\n",
    "        \n",
    "data['gender'] = data['gender'].apply(gToBinary)                "
   ]
  },
  {
   "cell_type": "code",
   "execution_count": 35,
   "metadata": {},
   "outputs": [],
   "source": [
    "def nanToVal(v):\n",
    "    if(np.isnan(v)):\n",
    "        return 0\n",
    "    else:\n",
    "        return v\n",
    "    \n",
    "    \n",
    "#data[\"age\"] = data[\"age\"].apply(nanToVal)    \n",
    "\n",
    "data = data.iloc[:,0:6]\n",
    "data.dropna(axis=0,inplace=True)\n",
    "#data.head()"
   ]
  },
  {
   "cell_type": "code",
   "execution_count": 37,
   "metadata": {},
   "outputs": [
    {
     "name": "stdout",
     "output_type": "stream",
     "text": [
      "  biomarker_id patient_id  target                 institution  gender age\n",
      "0     89c43bb4  1002df1d3       0  University Hospital System       0  46\n",
      "1     3ae31327   1010441f       0           Montague Hospital       0  52\n",
      "2    1d8f7bab9  101eb6af1       0                BioLab, Inc.       1  55\n",
      "3    129ee8c6c  10204394e       0  University Hospital System       0  69\n",
      "4    1b44145bd  1021d329b       0  University Hospital System       0  52\n"
     ]
    },
    {
     "name": "stderr",
     "output_type": "stream",
     "text": [
      "C:\\Users\\ayaei\\Anaconda3\\lib\\site-packages\\statsmodels\\nonparametric\\kde.py:487: RuntimeWarning: invalid value encountered in true_divide\n",
      "  binned = fast_linbin(X, a, b, gridsize) / (delta * nobs)\n",
      "C:\\Users\\ayaei\\Anaconda3\\lib\\site-packages\\statsmodels\\nonparametric\\kdetools.py:34: RuntimeWarning: invalid value encountered in double_scalars\n",
      "  FAC1 = 2*(np.pi*bw/RANGE)**2\n"
     ]
    },
    {
     "data": {
      "text/plain": [
       "<seaborn.axisgrid.PairGrid at 0x21295560948>"
      ]
     },
     "execution_count": 37,
     "metadata": {},
     "output_type": "execute_result"
    },
    {
     "data": {
      "image/png": "[encoded data removed]",
      "text/plain": [
       "<Figure size 432x288 with 1 Axes>"
      ]
     },
     "metadata": {
      "needs_background": "light"
     },
     "output_type": "display_data"
    },
    {
     "data": {
      "image/png": "[encoded data removed]",
      "text/plain": [
       "<Figure size 582.375x540 with 12 Axes>"
      ]
     },
     "metadata": {
      "needs_background": "light"
     },
     "output_type": "display_data"
    }
   ],
   "source": [
    "# Finally, for each biomarker_id, we need to load in the atual features\n",
    "print(data.head())\n",
    "#sns.distplot()\n",
    "#plt.hist([data['']])\n",
    "\n",
    "\n",
    "\n",
    "sns.distplot( data[data['target']==1]['age'] , color=\"skyblue\", label=\"No Cancer\")\n",
    "sns.distplot( data[data['target']==0]['age'], color=\"red\", label=\"Cancer\")\n",
    "plt.legend()\n",
    "\n",
    "sns.pairplot(data,hue='target')"
   ]
  },
  {
   "cell_type": "code",
   "execution_count": 61,
   "metadata": {},
   "outputs": [
    {
     "data": {
      "text/plain": [
       "<matplotlib.axes._subplots.AxesSubplot at 0x21282637c88>"
      ]
     },
     "execution_count": 61,
     "metadata": {},
     "output_type": "execute_result"
    },
    {
     "data": {
      "image/png": "[encoded data removed]",
      "text/plain": [
       "<Figure size 432x288 with 1 Axes>"
      ]
     },
     "metadata": {
      "needs_background": "light"
     },
     "output_type": "display_data"
    }
   ],
   "source": [
    "f = features.iloc[:,-3:]\n",
    "#sns.pairplot(features.iloc[:,-3:],hue=features['target'])\n",
    "#features.iloc[:,2:10].head(10)\n",
    "#features['target'].shape\n",
    "#features.iloc[:,1:10].shape\n",
    "sns.boxplot(f)#,hue='target')"
   ]
  },
  {
   "cell_type": "code",
   "execution_count": 29,
   "metadata": {},
   "outputs": [
    {
     "name": "stderr",
     "output_type": "stream",
     "text": [
      "C:\\Users\\ayaei\\Anaconda3\\lib\\site-packages\\pandas\\core\\indexing.py:205: SettingWithCopyWarning: \n",
      "A value is trying to be set on a copy of a slice from a DataFrame\n",
      "\n",
      "See the caveats in the documentation: http://pandas.pydata.org/pandas-docs/stable/user_guide/indexing.html#returning-a-view-versus-a-copy\n",
      "  self._setitem_with_indexer(indexer, value)\n"
     ]
    }
   ],
   "source": [
    "# append targets to features to establish data matrix\n",
    "\n",
    "features['target'] = np.full(len(features),np.nan)\n",
    "for b_ind in range(0, len(data)):   \n",
    "    bid = data.loc[b_ind]['biomarker_id']\n",
    "    target = data.loc[b_ind]['target']\n",
    "    features.target.loc[features['biomarker_id']==bid] = target\n",
    "\n",
    "# remove any observations without target data\n",
    "features.dropna(subset=['target'],inplace=True)    "
   ]
  },
  {
   "cell_type": "code",
   "execution_count": 33,
   "metadata": {},
   "outputs": [],
   "source": [
    "# Looking a little closer at the data, I found a few features that have numerous missing values. For now, let's just remove them entirely\n",
    "features.dropna(axis=1,inplace=True)\n"
   ]
  },
  {
   "cell_type": "code",
   "execution_count": null,
   "metadata": {},
   "outputs": [],
   "source": []
  },
  {
   "cell_type": "code",
   "execution_count": 9,
   "metadata": {},
   "outputs": [],
   "source": [
    "from sklearn.model_selection import train_test_split\n",
    "#X = features.drop(['target','biomarker_id'],axis=1)\n",
    "#y = features['target']\n",
    "\n",
    "\n",
    "cat_feats = ['institution']\n",
    "data = pd.get_dummies(data.drop(['biomarker_id','patient_id'],axis=1),columns=cat_feats,drop_first=True)\n",
    "data['age'] = data['age'].apply(int)\n",
    "X = data.drop(['target'],axis=1)\n",
    "y = data['target']\n",
    "\n",
    "#X = X.to_numpy()\n",
    "#y = y.to_numpy()\n",
    "\n",
    "\n",
    "X_train, X_test, y_train, y_test = train_test_split(X, y, test_size=0.33, random_state=42)"
   ]
  },
  {
   "cell_type": "code",
   "execution_count": 10,
   "metadata": {},
   "outputs": [
    {
     "name": "stdout",
     "output_type": "stream",
     "text": [
      "<class 'pandas.core.frame.DataFrame'>\n",
      "Int64Index: 1611 entries, 0 to 1733\n",
      "Data columns (total 6 columns):\n",
      "gender                                       1611 non-null int64\n",
      "age                                          1611 non-null int64\n",
      "institution_Johnson & Bloom Hospitals        1611 non-null uint8\n",
      "institution_Montague Hospital                1611 non-null uint8\n",
      "institution_Saint Penelope Medical Center    1611 non-null uint8\n",
      "institution_University Hospital System       1611 non-null uint8\n",
      "dtypes: int64(2), uint8(4)\n",
      "memory usage: 44.1 KB\n",
      "<class 'pandas.core.frame.DataFrame'>\n",
      "Int64Index: 1611 entries, 0 to 1733\n",
      "Data columns (total 7 columns):\n",
      "target                                       1611 non-null int64\n",
      "gender                                       1611 non-null int64\n",
      "age                                          1611 non-null int64\n",
      "institution_Johnson & Bloom Hospitals        1611 non-null uint8\n",
      "institution_Montague Hospital                1611 non-null uint8\n",
      "institution_Saint Penelope Medical Center    1611 non-null uint8\n",
      "institution_University Hospital System       1611 non-null uint8\n",
      "dtypes: int64(3), uint8(4)\n",
      "memory usage: 56.6 KB\n"
     ]
    }
   ],
   "source": [
    "X.info()\n",
    "\n",
    "data.info()"
   ]
  },
  {
   "cell_type": "code",
   "execution_count": 12,
   "metadata": {},
   "outputs": [
    {
     "name": "stdout",
     "output_type": "stream",
     "text": [
      "              precision    recall  f1-score   support\n",
      "\n",
      "           0       1.00      0.79      0.88       532\n",
      "           1       0.00      0.00      0.00         0\n",
      "\n",
      "    accuracy                           0.79       532\n",
      "   macro avg       0.50      0.39      0.44       532\n",
      "weighted avg       1.00      0.79      0.88       532\n",
      "\n",
      "[[419 113]\n",
      " [  0   0]]\n"
     ]
    },
    {
     "name": "stderr",
     "output_type": "stream",
     "text": [
      "C:\\Users\\ayaei\\Anaconda3\\lib\\site-packages\\sklearn\\linear_model\\logistic.py:432: FutureWarning: Default solver will be changed to 'lbfgs' in 0.22. Specify a solver to silence this warning.\n",
      "  FutureWarning)\n",
      "C:\\Users\\ayaei\\Anaconda3\\lib\\site-packages\\sklearn\\metrics\\classification.py:1439: UndefinedMetricWarning: Recall and F-score are ill-defined and being set to 0.0 in labels with no true samples.\n",
      "  'recall', 'true', average, warn_for)\n"
     ]
    }
   ],
   "source": [
    "from sklearn.linear_model import LogisticRegression\n",
    "from sklearn.metrics import classification_report, confusion_matrix, f1_score\n",
    "logmodel = LogisticRegression()\n",
    "logmodel.fit(X_train,y_train)\n",
    "predictions = logmodel.predict(X_test)\n",
    "print(classification_report(predictions,y_test))\n",
    "print(confusion_matrix(predictions,y_test))"
   ]
  },
  {
   "cell_type": "markdown",
   "metadata": {},
   "source": [
    "# Neural Network"
   ]
  },
  {
   "cell_type": "code",
   "execution_count": 13,
   "metadata": {},
   "outputs": [
    {
     "ename": "ModuleNotFoundError",
     "evalue": "No module named 'tensorflow'",
     "output_type": "error",
     "traceback": [
      "\u001b[1;31m---------------------------------------------------------------------------\u001b[0m",
      "\u001b[1;31mModuleNotFoundError\u001b[0m                       Traceback (most recent call last)",
      "\u001b[1;32m<ipython-input-13-376a97b5fa87>\u001b[0m in \u001b[0;36m<module>\u001b[1;34m\u001b[0m\n\u001b[0;32m      5\u001b[0m \u001b[0mX_test\u001b[0m \u001b[1;33m=\u001b[0m \u001b[0mscaler\u001b[0m\u001b[1;33m.\u001b[0m\u001b[0mtransform\u001b[0m\u001b[1;33m(\u001b[0m\u001b[0mX_test\u001b[0m\u001b[1;33m)\u001b[0m\u001b[1;33m\u001b[0m\u001b[1;33m\u001b[0m\u001b[0m\n\u001b[0;32m      6\u001b[0m \u001b[1;33m\u001b[0m\u001b[0m\n\u001b[1;32m----> 7\u001b[1;33m \u001b[1;32mfrom\u001b[0m \u001b[0mtensorflow\u001b[0m\u001b[1;33m.\u001b[0m\u001b[0mkeras\u001b[0m\u001b[1;33m.\u001b[0m\u001b[0mmodels\u001b[0m \u001b[1;32mimport\u001b[0m \u001b[0mSequential\u001b[0m\u001b[1;33m\u001b[0m\u001b[1;33m\u001b[0m\u001b[0m\n\u001b[0m\u001b[0;32m      8\u001b[0m \u001b[1;32mfrom\u001b[0m \u001b[0mtensorflow\u001b[0m\u001b[1;33m.\u001b[0m\u001b[0mkeras\u001b[0m\u001b[1;33m.\u001b[0m\u001b[0mlayers\u001b[0m \u001b[1;32mimport\u001b[0m \u001b[0mDense\u001b[0m\u001b[1;33m\u001b[0m\u001b[1;33m\u001b[0m\u001b[0m\n\u001b[0;32m      9\u001b[0m \u001b[0mmodel\u001b[0m \u001b[1;33m=\u001b[0m \u001b[0mSequential\u001b[0m\u001b[1;33m(\u001b[0m\u001b[1;33m)\u001b[0m\u001b[1;33m\u001b[0m\u001b[1;33m\u001b[0m\u001b[0m\n",
      "\u001b[1;31mModuleNotFoundError\u001b[0m: No module named 'tensorflow'"
     ]
    }
   ],
   "source": [
    "from sklearn.preprocessing import MinMaxScaler\n",
    "scaler = MinMaxScaler()\n",
    "scaler.fit(X_train)\n",
    "X_train = scaler.transform(X_train)\n",
    "X_test = scaler.transform(X_test)\n",
    "\n",
    "from tensorflow.keras.models import Sequential\n",
    "from tensorflow.keras.layers import Dense\n",
    "model = Sequential()\n",
    "model.add(Dense(4,activation='relu'))\n",
    "model.add(Dense(4,activation='relu'))\n",
    "model.add(Dense(4,activation='relu'))\n",
    "model.add(Dense(1)) \n",
    "model.compile(optimizer='rmsprop',loss='mse')  # optimzer depends on type of problem (binary, multiclass or regression)"
   ]
  },
  {
   "cell_type": "code",
   "execution_count": null,
   "metadata": {},
   "outputs": [],
   "source": [
    "model.fit(x=X_train,y=y_train, epochs=250,verbose=0)"
   ]
  },
  {
   "cell_type": "code",
   "execution_count": null,
   "metadata": {},
   "outputs": [],
   "source": [
    "loss_df = pd.DataFrame(model.history.history)\n",
    "loss_df.plot()"
   ]
  },
  {
   "cell_type": "code",
   "execution_count": null,
   "metadata": {},
   "outputs": [],
   "source": [
    "predictions = np.round(model.predict(X_test))"
   ]
  },
  {
   "cell_type": "code",
   "execution_count": null,
   "metadata": {},
   "outputs": [],
   "source": [
    "print(classification_report(predictions,y_test))\n",
    "print(confusion_matrix(predictions,y_test))\n"
   ]
  },
  {
   "cell_type": "code",
   "execution_count": null,
   "metadata": {},
   "outputs": [],
   "source": []
  },
  {
   "cell_type": "code",
   "execution_count": 14,
   "metadata": {},
   "outputs": [
    {
     "data": {
      "text/plain": [
       "DecisionTreeClassifier(class_weight=None, criterion='gini', max_depth=None,\n",
       "                       max_features=None, max_leaf_nodes=None,\n",
       "                       min_impurity_decrease=0.0, min_impurity_split=None,\n",
       "                       min_samples_leaf=1, min_samples_split=2,\n",
       "                       min_weight_fraction_leaf=0.0, presort=False,\n",
       "                       random_state=0, splitter='best')"
      ]
     },
     "execution_count": 14,
     "metadata": {},
     "output_type": "execute_result"
    }
   ],
   "source": [
    "from sklearn.tree import DecisionTreeClassifier\n",
    "dtree = DecisionTreeClassifier(random_state=0)\n",
    "dtree.fit(X_train,y_train)"
   ]
  },
  {
   "cell_type": "code",
   "execution_count": 15,
   "metadata": {},
   "outputs": [],
   "source": [
    "from sklearn.metrics import classification_report, confusion_matrix, f1_score"
   ]
  },
  {
   "cell_type": "code",
   "execution_count": 16,
   "metadata": {},
   "outputs": [
    {
     "name": "stdout",
     "output_type": "stream",
     "text": [
      "              precision    recall  f1-score   support\n",
      "\n",
      "           0       0.90      0.79      0.84       478\n",
      "           1       0.11      0.22      0.14        54\n",
      "\n",
      "    accuracy                           0.73       532\n",
      "   macro avg       0.50      0.51      0.49       532\n",
      "weighted avg       0.82      0.73      0.77       532\n",
      "\n",
      "[[377 101]\n",
      " [ 42  12]]\n"
     ]
    }
   ],
   "source": [
    "predictions = dtree.predict(X_test)\n",
    "print(classification_report(predictions,y_test))\n",
    "print(confusion_matrix(predictions,y_test))"
   ]
  },
  {
   "cell_type": "code",
   "execution_count": null,
   "metadata": {},
   "outputs": [],
   "source": [
    "\n"
   ]
  },
  {
   "cell_type": "code",
   "execution_count": null,
   "metadata": {},
   "outputs": [],
   "source": []
  },
  {
   "cell_type": "code",
   "execution_count": 17,
   "metadata": {},
   "outputs": [
    {
     "data": {
      "text/plain": [
       "AdaBoostClassifier(algorithm='SAMME.R', base_estimator=None, learning_rate=1.0,\n",
       "                   n_estimators=100, random_state=0)"
      ]
     },
     "execution_count": 17,
     "metadata": {},
     "output_type": "execute_result"
    }
   ],
   "source": [
    "from sklearn.ensemble import AdaBoostClassifier\n",
    "from sklearn.datasets import make_classification\n",
    "clf = AdaBoostClassifier(n_estimators=100, random_state=0)\n",
    "clf.fit(X_train, y_train)"
   ]
  },
  {
   "cell_type": "code",
   "execution_count": 18,
   "metadata": {},
   "outputs": [
    {
     "name": "stdout",
     "output_type": "stream",
     "text": [
      "              precision    recall  f1-score   support\n",
      "\n",
      "           0       0.99      0.79      0.88       524\n",
      "           1       0.03      0.38      0.05         8\n",
      "\n",
      "    accuracy                           0.78       532\n",
      "   macro avg       0.51      0.58      0.46       532\n",
      "weighted avg       0.97      0.78      0.87       532\n",
      "\n",
      "[[414 110]\n",
      " [  5   3]]\n"
     ]
    }
   ],
   "source": [
    "clf.feature_importances_\n",
    "predictions = clf.predict(X_test)\n",
    "\n",
    "print(classification_report(predictions,y_test))\n",
    "print(confusion_matrix(predictions,y_test))"
   ]
  },
  {
   "cell_type": "code",
   "execution_count": null,
   "metadata": {},
   "outputs": [],
   "source": []
  },
  {
   "cell_type": "code",
   "execution_count": null,
   "metadata": {},
   "outputs": [],
   "source": []
  },
  {
   "cell_type": "code",
   "execution_count": null,
   "metadata": {},
   "outputs": [],
   "source": []
  },
  {
   "cell_type": "code",
   "execution_count": 19,
   "metadata": {},
   "outputs": [],
   "source": [
    "from sklearn.ensemble import RandomForestClassifier"
   ]
  },
  {
   "cell_type": "code",
   "execution_count": 22,
   "metadata": {},
   "outputs": [
    {
     "name": "stdout",
     "output_type": "stream",
     "text": [
      "[[375 101]\n",
      " [ 44  12]]\n",
      "\n",
      "\n",
      "              precision    recall  f1-score   support\n",
      "\n",
      "           0       0.89      0.79      0.84       476\n",
      "           1       0.11      0.21      0.14        56\n",
      "\n",
      "    accuracy                           0.73       532\n",
      "   macro avg       0.50      0.50      0.49       532\n",
      "weighted avg       0.81      0.73      0.76       532\n",
      "\n"
     ]
    },
    {
     "data": {
      "image/png": "[encoded data removed]",
      "text/plain": [
       "<Figure size 720x360 with 1 Axes>"
      ]
     },
     "metadata": {
      "needs_background": "light"
     },
     "output_type": "display_data"
    }
   ],
   "source": [
    "err = []\n",
    "for i in range(1,100):\n",
    "    rfc = RandomForestClassifier(n_estimators=i)\n",
    "    rfc.fit(X_train, y_train)\n",
    "    rfc_predictions = rfc.predict(X_test)\n",
    "    err.append(np.mean(rfc_predictions!=y_test))\n",
    "    #err.append(f1_score(y_test, rfc_predictions, average='weighted'))\n",
    "\n",
    "plt.figure(figsize=(10,5))\n",
    "plt.plot(range(1,100),err)  \n",
    "\n",
    "rfc = RandomForestClassifier(n_estimators=11)\n",
    "rfc.fit(X_train, y_train)\n",
    "rfc_predictions = rfc.predict(X_test)\n",
    "#err.append(np.mean(rfc_predictions!=y_test))    \n",
    "    \n",
    "print(confusion_matrix(rfc_predictions,y_test))\n",
    "print('\\n')\n",
    "print(classification_report(rfc_predictions,y_test))"
   ]
  },
  {
   "cell_type": "code",
   "execution_count": null,
   "metadata": {},
   "outputs": [],
   "source": [
    "plt.figure(figsize=(10,5))\n",
    "plt.plot(range(1,100),err)    "
   ]
  },
  {
   "cell_type": "code",
   "execution_count": 23,
   "metadata": {},
   "outputs": [
    {
     "name": "stdout",
     "output_type": "stream",
     "text": [
      "[[419   0]\n",
      " [113   0]]\n",
      "              precision    recall  f1-score   support\n",
      "\n",
      "           0       0.79      1.00      0.88       419\n",
      "           1       0.00      0.00      0.00       113\n",
      "\n",
      "    accuracy                           0.79       532\n",
      "   macro avg       0.39      0.50      0.44       532\n",
      "weighted avg       0.62      0.79      0.69       532\n",
      "\n"
     ]
    },
    {
     "name": "stderr",
     "output_type": "stream",
     "text": [
      "C:\\Users\\ayaei\\Anaconda3\\lib\\site-packages\\sklearn\\svm\\base.py:193: FutureWarning: The default value of gamma will change from 'auto' to 'scale' in version 0.22 to account better for unscaled features. Set gamma explicitly to 'auto' or 'scale' to avoid this warning.\n",
      "  \"avoid this warning.\", FutureWarning)\n",
      "C:\\Users\\ayaei\\Anaconda3\\lib\\site-packages\\sklearn\\metrics\\classification.py:1437: UndefinedMetricWarning: Precision and F-score are ill-defined and being set to 0.0 in labels with no predicted samples.\n",
      "  'precision', 'predicted', average, warn_for)\n"
     ]
    }
   ],
   "source": [
    "from sklearn.svm import SVC\n",
    "model = SVC()\n",
    "model.fit(X_train,y_train)\n",
    "predictions = model.predict(X_test)\n",
    "print(confusion_matrix(y_test,predictions))\n",
    "print(classification_report(y_test,predictions))"
   ]
  },
  {
   "cell_type": "code",
   "execution_count": null,
   "metadata": {},
   "outputs": [],
   "source": [
    "\n",
    "# C controls the cost of misclassification of training\n",
    "# large C gives low bias and high variance (overfitting) because you penalize the cost of misclassification\n",
    "# low C underfits (high bias, low variance)\n",
    "\n",
    "# gamma: radial basis function, gamma is a free param in it, small gamma gives a gaussian with a higher vairnace\n",
    "# large gamma -> high variance low bias\n",
    "# default gamma = 1/n_features\n",
    "from sklearn.model_selection import GridSearchCV\n",
    "param_grid = {'C':[.001, .01, 0.1], 'gamma':[10,1,.1]}\n",
    "grid = GridSearchCV(SVC(), param_grid, verbose=3)\n",
    "grid.fit(X_train, y_train)\n",
    "grid.best_params_\n",
    "grid.best_estimator_\n",
    "grid_predictions = grid.predict(X_test)\n"
   ]
  },
  {
   "cell_type": "code",
   "execution_count": null,
   "metadata": {},
   "outputs": [],
   "source": [
    "print(confusion_matrix(y_test,grid_predictions))\n",
    "print(classification_report(y_test,grid_predictions))\n",
    "grid.best_params_"
   ]
  },
  {
   "cell_type": "code",
   "execution_count": 24,
   "metadata": {},
   "outputs": [
    {
     "name": "stderr",
     "output_type": "stream",
     "text": [
      "C:\\Users\\ayaei\\Anaconda3\\lib\\site-packages\\sklearn\\linear_model\\logistic.py:432: FutureWarning: Default solver will be changed to 'lbfgs' in 0.22. Specify a solver to silence this warning.\n",
      "  FutureWarning)\n"
     ]
    },
    {
     "ename": "NameError",
     "evalue": "name 'grid_predictions' is not defined",
     "output_type": "error",
     "traceback": [
      "\u001b[1;31m---------------------------------------------------------------------------\u001b[0m",
      "\u001b[1;31mNameError\u001b[0m                                 Traceback (most recent call last)",
      "\u001b[1;32m<ipython-input-24-341dcd5018ec>\u001b[0m in \u001b[0;36m<module>\u001b[1;34m\u001b[0m\n\u001b[0;32m      3\u001b[0m \u001b[0mlogmodel\u001b[0m\u001b[1;33m.\u001b[0m\u001b[0mfit\u001b[0m\u001b[1;33m(\u001b[0m\u001b[0mX_train\u001b[0m\u001b[1;33m,\u001b[0m\u001b[0my_train\u001b[0m\u001b[1;33m)\u001b[0m\u001b[1;33m\u001b[0m\u001b[1;33m\u001b[0m\u001b[0m\n\u001b[0;32m      4\u001b[0m \u001b[0mpredictions\u001b[0m \u001b[1;33m=\u001b[0m \u001b[0mlogmodel\u001b[0m\u001b[1;33m.\u001b[0m\u001b[0mpredict\u001b[0m\u001b[1;33m(\u001b[0m\u001b[0mX_test\u001b[0m\u001b[1;33m)\u001b[0m\u001b[1;33m\u001b[0m\u001b[1;33m\u001b[0m\u001b[0m\n\u001b[1;32m----> 5\u001b[1;33m \u001b[0mprint\u001b[0m\u001b[1;33m(\u001b[0m\u001b[0mconfusion_matrix\u001b[0m\u001b[1;33m(\u001b[0m\u001b[0my_test\u001b[0m\u001b[1;33m,\u001b[0m\u001b[0mgrid_predictions\u001b[0m\u001b[1;33m)\u001b[0m\u001b[1;33m)\u001b[0m\u001b[1;33m\u001b[0m\u001b[1;33m\u001b[0m\u001b[0m\n\u001b[0m\u001b[0;32m      6\u001b[0m \u001b[0mprint\u001b[0m\u001b[1;33m(\u001b[0m\u001b[0mclassification_report\u001b[0m\u001b[1;33m(\u001b[0m\u001b[0my_test\u001b[0m\u001b[1;33m,\u001b[0m\u001b[0mgrid_predictions\u001b[0m\u001b[1;33m)\u001b[0m\u001b[1;33m)\u001b[0m\u001b[1;33m\u001b[0m\u001b[1;33m\u001b[0m\u001b[0m\n",
      "\u001b[1;31mNameError\u001b[0m: name 'grid_predictions' is not defined"
     ]
    }
   ],
   "source": [
    "from sklearn.linear_model import LogisticRegression\n",
    "logmodel = LogisticRegression(max_iter=500)\n",
    "logmodel.fit(X_train,y_train)\n",
    "predictions = logmodel.predict(X_test)\n",
    "print(confusion_matrix(y_test,grid_predictions))\n",
    "print(classification_report(y_test,grid_predictions))"
   ]
  },
  {
   "cell_type": "code",
   "execution_count": null,
   "metadata": {},
   "outputs": [],
   "source": [
    "logmodel"
   ]
  },
  {
   "cell_type": "code",
   "execution_count": null,
   "metadata": {},
   "outputs": [],
   "source": []
  },
  {
   "cell_type": "code",
   "execution_count": null,
   "metadata": {},
   "outputs": [],
   "source": [
    "#data['dst'].loc[data['biomarker_id']==pid] = check(patient_profiles[inst_ind][\"patient_profiles\"][pat_ind]['status'].get('disease_sub_type')\n",
    "                                                   \n",
    "                                                   \n",
    "#check(patient_profiles[inst_ind][\"patient_profiles\"][pat_ind]['status'].get('disease_sub_type'))\n",
    "data['dst'].loc[data['biomarker_id']==pid]\n",
    "data.loc[data['biomarker_id']==pid]\n",
    "data.head(20)\n",
    "\n",
    "\n",
    "def check(val):\n",
    "    if val:\n",
    "        return val\n",
    "    else:\n",
    "        return np.nan\n",
    "    \n",
    "    \n",
    "print(check(patient_profiles[inst_ind][\"patient_profiles\"][0]['demographics'].get('race')))\n",
    "print(check(patient_profiles[inst_ind][\"patient_profiles\"][1]['demographics'].get('race')))\n",
    "\n",
    "\n",
    "print(check(patient_profiles[1][\"patient_profiles\"][2]['demographics'].get('race')))\n",
    "\n",
    "print(check(patient_profiles[6][\"patient_profiles\"][0]['demographics'].get('race')))\n",
    "\n",
    "\n",
    "\n",
    "#data['dst'].loc[data['biomarker_id']==pid] = patient_profiles[inst_ind][\"patient_profiles\"][pat_ind]['status']['disease_sub_type']\n",
    "        \n",
    "#data.head()    \n",
    "#data.isin(['89c43bb4'])    \n",
    "#data[data['biomarker_id']=='89c43bb4']['institution'] = patient_profiles[0][\"institution\"]\n",
    "#data['institution'].loc[data['biomarker_id']=='89c43bb4'] = patient_profiles[0][\"institution\"]\n",
    "\n",
    "#inst_ind = 1\n",
    "#pat_ind = 2\n",
    "#patient_profiles[inst_ind][\"patient_profiles\"][pat_ind]['patient_id']\n",
    "#patient_profiles[inst_ind][\"patient_profiles\"][pat_ind]['demographics']['gender']\n"
   ]
  },
  {
   "cell_type": "code",
   "execution_count": null,
   "metadata": {},
   "outputs": [],
   "source": []
  },
  {
   "cell_type": "code",
   "execution_count": null,
   "metadata": {},
   "outputs": [],
   "source": [
    "data.head()"
   ]
  },
  {
   "cell_type": "code",
   "execution_count": null,
   "metadata": {},
   "outputs": [],
   "source": []
  },
  {
   "cell_type": "code",
   "execution_count": null,
   "metadata": {},
   "outputs": [],
   "source": [
    "#len(patient_profiles[0][\"patient_profiles\"])\n",
    "#pid = patient_profiles[0][\"patient_profiles\"][0]['patient_id']\n",
    "#pid\n",
    "#data.loc['10e32947f']\n",
    "\n",
    "patient_profiles[0][\"institution\"]"
   ]
  },
  {
   "cell_type": "code",
   "execution_count": null,
   "metadata": {
    "scrolled": false
   },
   "outputs": [],
   "source": [
    "print(json.dumps(patient_profiles, indent=4))\n",
    "#patient_profiles[2][\"institution\"]\n"
   ]
  }
 ],
 "metadata": {
  "kernelspec": {
   "display_name": "Python 3",
   "language": "python",
   "name": "python3"
  },
  "language_info": {
   "codemirror_mode": {
    "name": "ipython",
    "version": 3
   },
   "file_extension": ".py",
   "mimetype": "text/x-python",
   "name": "python",
   "nbconvert_exporter": "python",
   "pygments_lexer": "ipython3",
   "version": "3.7.4"
  }
 },
 "nbformat": 4,
 "nbformat_minor": 2
}
