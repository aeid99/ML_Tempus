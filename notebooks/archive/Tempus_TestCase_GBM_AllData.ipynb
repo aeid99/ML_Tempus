{
 "cells": [
  {
   "cell_type": "markdown",
   "metadata": {},
   "source": [
    "Aya Eid\n",
    "\n",
    "Tempus Test Case"
   ]
  },
  {
   "cell_type": "markdown",
   "metadata": {},
   "source": [
    "# Include imports "
   ]
  },
  {
   "cell_type": "code",
   "execution_count": 1,
   "metadata": {},
   "outputs": [],
   "source": [
    "import pandas as pd\n",
    "import numpy as np\n",
    "import matplotlib.pyplot as plt\n",
    "import seaborn as sns\n",
    "import json\n",
    "%matplotlib inline"
   ]
  },
  {
   "cell_type": "markdown",
   "metadata": {},
   "source": [
    "# Reading in and structuring data"
   ]
  },
  {
   "cell_type": "markdown",
   "metadata": {},
   "source": [
    "Three files were provided and I assumed the features from the biomarkers file and those from the patient profiles were not redundant.  So in this section, I combine the features from biomarkers, the features from  patient profiles and the targets into a master data matrix, which I call \"data\".  "
   ]
  },
  {
   "cell_type": "code",
   "execution_count": 127,
   "metadata": {},
   "outputs": [],
   "source": [
    "targets = pd.read_csv('targets.csv')\n",
    "data = pd.read_csv('biomarkers.csv')"
   ]
  },
  {
   "cell_type": "code",
   "execution_count": 128,
   "metadata": {},
   "outputs": [],
   "source": [
    "# Connect biomarker and target data through biomarker_id in master data matrix\n",
    "data.insert(0,'patient_id', np.full(len(data),np.nan))\n",
    "data.insert(1,'target', np.full(len(data),np.nan))\n",
    "\n",
    "for b_iter in range(0, len(targets)):  \n",
    "    bid = targets.loc[b_iter]['biomarker_id']  \n",
    "    data.loc[data.biomarker_id==bid,'patient_id'] = targets.loc[b_iter,'patient_id']\n",
    "    data.loc[data.biomarker_id==bid,'target'] = targets.loc[b_iter,'target_label']\n"
   ]
  },
  {
   "cell_type": "code",
   "execution_count": 129,
   "metadata": {},
   "outputs": [
    {
     "data": {
      "text/html": [
       "<div>\n",
       "<style scoped>\n",
       "    .dataframe tbody tr th:only-of-type {\n",
       "        vertical-align: middle;\n",
       "    }\n",
       "\n",
       "    .dataframe tbody tr th {\n",
       "        vertical-align: top;\n",
       "    }\n",
       "\n",
       "    .dataframe thead th {\n",
       "        text-align: right;\n",
       "    }\n",
       "</style>\n",
       "<table border=\"1\" class=\"dataframe\">\n",
       "  <thead>\n",
       "    <tr style=\"text-align: right;\">\n",
       "      <th></th>\n",
       "      <th>patient_id</th>\n",
       "      <th>target</th>\n",
       "      <th>biomarker_id</th>\n",
       "      <th>BM00000</th>\n",
       "      <th>BM00001</th>\n",
       "      <th>BM00002</th>\n",
       "      <th>BM00003</th>\n",
       "      <th>BM00004</th>\n",
       "      <th>BM00005</th>\n",
       "      <th>BM00006</th>\n",
       "      <th>...</th>\n",
       "      <th>BM15147</th>\n",
       "      <th>BM15148</th>\n",
       "      <th>BM15149</th>\n",
       "      <th>BM15150</th>\n",
       "      <th>BM15151</th>\n",
       "      <th>BM15152</th>\n",
       "      <th>BM15153</th>\n",
       "      <th>BM15154</th>\n",
       "      <th>BM15155</th>\n",
       "      <th>BM15156</th>\n",
       "    </tr>\n",
       "  </thead>\n",
       "  <tbody>\n",
       "    <tr>\n",
       "      <td>0</td>\n",
       "      <td>2293769a5</td>\n",
       "      <td>0.0</td>\n",
       "      <td>100505de2</td>\n",
       "      <td>1</td>\n",
       "      <td>1</td>\n",
       "      <td>1</td>\n",
       "      <td>0</td>\n",
       "      <td>0</td>\n",
       "      <td>0</td>\n",
       "      <td>1</td>\n",
       "      <td>...</td>\n",
       "      <td>1</td>\n",
       "      <td>0</td>\n",
       "      <td>1</td>\n",
       "      <td>1</td>\n",
       "      <td>0</td>\n",
       "      <td>0</td>\n",
       "      <td>1</td>\n",
       "      <td>1.0</td>\n",
       "      <td>1</td>\n",
       "      <td>1</td>\n",
       "    </tr>\n",
       "    <tr>\n",
       "      <td>1</td>\n",
       "      <td>221da90e</td>\n",
       "      <td>1.0</td>\n",
       "      <td>10075c5c2</td>\n",
       "      <td>1</td>\n",
       "      <td>1</td>\n",
       "      <td>1</td>\n",
       "      <td>0</td>\n",
       "      <td>0</td>\n",
       "      <td>0</td>\n",
       "      <td>1</td>\n",
       "      <td>...</td>\n",
       "      <td>1</td>\n",
       "      <td>0</td>\n",
       "      <td>0</td>\n",
       "      <td>0</td>\n",
       "      <td>0</td>\n",
       "      <td>0</td>\n",
       "      <td>1</td>\n",
       "      <td>NaN</td>\n",
       "      <td>1</td>\n",
       "      <td>1</td>\n",
       "    </tr>\n",
       "    <tr>\n",
       "      <td>2</td>\n",
       "      <td>f379252a</td>\n",
       "      <td>1.0</td>\n",
       "      <td>10105cb22</td>\n",
       "      <td>1</td>\n",
       "      <td>1</td>\n",
       "      <td>1</td>\n",
       "      <td>0</td>\n",
       "      <td>0</td>\n",
       "      <td>0</td>\n",
       "      <td>1</td>\n",
       "      <td>...</td>\n",
       "      <td>1</td>\n",
       "      <td>0</td>\n",
       "      <td>0</td>\n",
       "      <td>0</td>\n",
       "      <td>0</td>\n",
       "      <td>0</td>\n",
       "      <td>1</td>\n",
       "      <td>NaN</td>\n",
       "      <td>1</td>\n",
       "      <td>1</td>\n",
       "    </tr>\n",
       "    <tr>\n",
       "      <td>3</td>\n",
       "      <td>1c9af69ad</td>\n",
       "      <td>0.0</td>\n",
       "      <td>101219d6e</td>\n",
       "      <td>1</td>\n",
       "      <td>0</td>\n",
       "      <td>1</td>\n",
       "      <td>0</td>\n",
       "      <td>0</td>\n",
       "      <td>0</td>\n",
       "      <td>0</td>\n",
       "      <td>...</td>\n",
       "      <td>1</td>\n",
       "      <td>0</td>\n",
       "      <td>0</td>\n",
       "      <td>0</td>\n",
       "      <td>0</td>\n",
       "      <td>0</td>\n",
       "      <td>1</td>\n",
       "      <td>1.0</td>\n",
       "      <td>1</td>\n",
       "      <td>1</td>\n",
       "    </tr>\n",
       "    <tr>\n",
       "      <td>4</td>\n",
       "      <td>378b948f</td>\n",
       "      <td>0.0</td>\n",
       "      <td>10135ad45</td>\n",
       "      <td>1</td>\n",
       "      <td>0</td>\n",
       "      <td>1</td>\n",
       "      <td>0</td>\n",
       "      <td>1</td>\n",
       "      <td>0</td>\n",
       "      <td>1</td>\n",
       "      <td>...</td>\n",
       "      <td>1</td>\n",
       "      <td>0</td>\n",
       "      <td>1</td>\n",
       "      <td>0</td>\n",
       "      <td>0</td>\n",
       "      <td>0</td>\n",
       "      <td>1</td>\n",
       "      <td>1.0</td>\n",
       "      <td>1</td>\n",
       "      <td>1</td>\n",
       "    </tr>\n",
       "  </tbody>\n",
       "</table>\n",
       "<p>5 rows × 15160 columns</p>\n",
       "</div>"
      ],
      "text/plain": [
       "  patient_id  target biomarker_id  BM00000  BM00001  BM00002  BM00003  \\\n",
       "0  2293769a5     0.0    100505de2        1        1        1        0   \n",
       "1   221da90e     1.0    10075c5c2        1        1        1        0   \n",
       "2   f379252a     1.0    10105cb22        1        1        1        0   \n",
       "3  1c9af69ad     0.0    101219d6e        1        0        1        0   \n",
       "4   378b948f     0.0    10135ad45        1        0        1        0   \n",
       "\n",
       "   BM00004  BM00005  BM00006  ...  BM15147  BM15148  BM15149  BM15150  \\\n",
       "0        0        0        1  ...        1        0        1        1   \n",
       "1        0        0        1  ...        1        0        0        0   \n",
       "2        0        0        1  ...        1        0        0        0   \n",
       "3        0        0        0  ...        1        0        0        0   \n",
       "4        1        0        1  ...        1        0        1        0   \n",
       "\n",
       "   BM15151  BM15152  BM15153  BM15154  BM15155  BM15156  \n",
       "0        0        0        1      1.0        1        1  \n",
       "1        0        0        1      NaN        1        1  \n",
       "2        0        0        1      NaN        1        1  \n",
       "3        0        0        1      1.0        1        1  \n",
       "4        0        0        1      1.0        1        1  \n",
       "\n",
       "[5 rows x 15160 columns]"
      ]
     },
     "execution_count": 129,
     "metadata": {},
     "output_type": "execute_result"
    }
   ],
   "source": [
    "data.head()"
   ]
  },
  {
   "cell_type": "code",
   "execution_count": 130,
   "metadata": {},
   "outputs": [
    {
     "name": "stdout",
     "output_type": "stream",
     "text": [
      "Read in:  0.0\n",
      "Read in:  0.16666666666666666\n",
      "Read in:  0.3333333333333333\n",
      "Read in:  0.5\n",
      "Read in:  0.6666666666666666\n",
      "Read in:  0.8333333333333334\n",
      "Read in:  1.0\n"
     ]
    }
   ],
   "source": [
    "# Next we connect the patient profile data to master data through the patient id  \n",
    "# while this isn't the fastest, it could be optimized or parallelized for larger datasets\n",
    "with open(\"patient_profiles.json\", \"r\") as read_file:\n",
    "    patient_profiles = json.load(read_file)\n",
    "\n",
    "def check(val):\n",
    "    if val:\n",
    "        return val\n",
    "    else:\n",
    "        return np.nan\n",
    "    \n",
    "data['institution'] = np.full(len(data),np.nan)\n",
    "data['gender'] = np.full(len(data),np.nan)\n",
    "data['age'] = np.full(len(data),np.nan)\n",
    "data['race'] = np.full(len(data),np.nan)\n",
    "data['dst'] = np.full(len(data),np.nan)\n",
    "data['comind'] = np.full(len(data),np.nan)\n",
    "data['coq'] = np.full(len(data),np.nan)\n",
    "data['smoking'] = np.full(len(data),np.nan)\n",
    "data['msd'] = np.full(len(data),np.nan)\n",
    "\n",
    "for inst_iter in range(0,len(patient_profiles)):\n",
    "    print('Progress read in: ', inst_iter/(len(patient_profiles)-1))\n",
    "          \n",
    "    for p_iter in range(0,len(patient_profiles[inst_iter]['patient_profiles'])):           \n",
    "        pid = patient_profiles[inst_iter]['patient_profiles'][p_iter]['patient_id']\n",
    "        ploc = data['patient_id']==pid\n",
    "\n",
    "        if(np.sum(ploc)>0):\n",
    "            data.loc[data['patient_id']==pid,'institution'] = check(patient_profiles[inst_iter]['institution'])\n",
    "            data.loc[data['patient_id']==pid,'gender'] = check(patient_profiles[inst_iter]['patient_profiles'][p_iter]['demographics'].get('gender'))\n",
    "            data.loc[data['patient_id']==pid,'age'] = check(patient_profiles[inst_iter]['patient_profiles'][p_iter]['demographics'].get('age'))        \n",
    "            data.loc[data['patient_id']==pid,'race'] = check(patient_profiles[inst_iter]['patient_profiles'][p_iter]['demographics'].get('race'))\n",
    "            data.loc[data['patient_id']==pid,'dst'] = patient_profiles[inst_iter]['patient_profiles'][p_iter]['status'].get('disease_sub_type')\n",
    "            \n",
    "            data.loc[data['patient_id']==pid,'comind'] = check(patient_profiles[inst_iter]['patient_profiles'][p_iter]['status'].get('comorbidity_index'))\n",
    "            data.loc[data['patient_id']==pid,'coq'] = check(patient_profiles[inst_iter]['patient_profiles'][p_iter]['status'].get('cohort_qualifier'))\n",
    "            data.loc[data['patient_id']==pid,'smoking'] = check(patient_profiles[inst_iter]['patient_profiles'][p_iter]['status'].get('smoking_status'))\n",
    "            data.loc[data['patient_id']==pid,'msd'] = check(patient_profiles[inst_iter]['patient_profiles'][p_iter]['status'].get('months_since_diagnosis'))\n",
    "              "
   ]
  },
  {
   "cell_type": "code",
   "execution_count": 131,
   "metadata": {},
   "outputs": [
    {
     "name": "stdout",
     "output_type": "stream",
     "text": [
      "<class 'pandas.core.frame.DataFrame'>\n",
      "RangeIndex: 1960 entries, 0 to 1959\n",
      "Columns: 15169 entries, patient_id to msd\n",
      "dtypes: float64(50), int64(15111), object(8)\n",
      "memory usage: 226.8+ MB\n"
     ]
    }
   ],
   "source": [
    "data.info()"
   ]
  },
  {
   "cell_type": "markdown",
   "metadata": {},
   "source": [
    "# Data Cleaning"
   ]
  },
  {
   "cell_type": "markdown",
   "metadata": {},
   "source": [
    "Now I go through some basic approaches to ensuring the data can be handled by the model.  My process includes removing observations without targets, removing features that have too many missing values, and filling in missing values (although certain algorithms XGB for example could handle missing values).  For categorical data I used one-hot encoding to convert them into numerical inputs. "
   ]
  },
  {
   "cell_type": "code",
   "execution_count": 309,
   "metadata": {},
   "outputs": [
    {
     "data": {
      "image/png": "[encoded data removed]",
      "text/plain": [
       "<Figure size 864x216 with 1 Axes>"
      ]
     },
     "metadata": {
      "needs_background": "light"
     },
     "output_type": "display_data"
    }
   ],
   "source": [
    "# Remove any observations without target data\n",
    "dataCleaned = data.copy();\n",
    "dataCleaned.dropna(subset=['target'],inplace=True)  \n",
    "\n",
    "# Let's take a look at how many features have missing values and how many \n",
    "ratioOfNans = dataCleaned.isnull().sum()/len(dataCleaned)\n",
    "plt.figure(figsize=(12,3))\n",
    "plt.plot(ratioOfNans[ratioOfNans>0])\n",
    "plt.xticks(rotation=90) \n",
    "plt.ylabel('Proportion of Missing Observations')\n",
    "plt.show()"
   ]
  },
  {
   "cell_type": "code",
   "execution_count": 310,
   "metadata": {},
   "outputs": [],
   "source": [
    "# For simplicity, let's just remove any features with more than 5% missing values\n",
    "dataCleaned.dropna(axis=1, thresh = 100, inplace=True)"
   ]
  },
  {
   "cell_type": "code",
   "execution_count": 311,
   "metadata": {},
   "outputs": [],
   "source": [
    "# Now for the categorical features, let's use one-hot encoding\n",
    "cat_feats = ['institution','dst','gender','race','smoking']  # categorical features\n",
    "\n",
    "# Here I use a simple approach to ensuring the categories would bin appropriately (eg MALE and male were considered the same observation)\n",
    "dataCleaned = dataCleaned.applymap(lambda s:s.lower() if type(s) == str else s)  \n",
    "dataCleaned = pd.get_dummies(dataCleaned, columns=cat_feats, drop_first=True)\n",
    "\n",
    "# Here I found one feature that came from an input of \"unknown\" which is synomous with \"NaN\"\n",
    "# another approach is to replace all table values of \"unknown\" with \"NaN\" earlier. But this was the only feature in which I saw this\n",
    "dataCleaned.drop('smoking_unknown',axis=1,inplace=True)  \n",
    "dataCleaned.fillna(0,inplace=True)  # not an ideal fill, but I wanted to keep it simple.  Also, XGBoost can handle them (future iteration)"
   ]
  },
  {
   "cell_type": "code",
   "execution_count": 312,
   "metadata": {},
   "outputs": [
    {
     "data": {
      "text/html": [
       "<div>\n",
       "<style scoped>\n",
       "    .dataframe tbody tr th:only-of-type {\n",
       "        vertical-align: middle;\n",
       "    }\n",
       "\n",
       "    .dataframe tbody tr th {\n",
       "        vertical-align: top;\n",
       "    }\n",
       "\n",
       "    .dataframe thead th {\n",
       "        text-align: right;\n",
       "    }\n",
       "</style>\n",
       "<table border=\"1\" class=\"dataframe\">\n",
       "  <thead>\n",
       "    <tr style=\"text-align: right;\">\n",
       "      <th></th>\n",
       "      <th>BM15153</th>\n",
       "      <th>BM15154</th>\n",
       "      <th>BM15155</th>\n",
       "      <th>BM15156</th>\n",
       "      <th>age</th>\n",
       "      <th>comind</th>\n",
       "      <th>coq</th>\n",
       "      <th>msd</th>\n",
       "      <th>institution_goodfellow research institute</th>\n",
       "      <th>institution_johnson &amp; bloom hospitals</th>\n",
       "      <th>...</th>\n",
       "      <th>dst_d</th>\n",
       "      <th>dst_e</th>\n",
       "      <th>dst_f</th>\n",
       "      <th>gender_male</th>\n",
       "      <th>race_asian</th>\n",
       "      <th>race_black or african american</th>\n",
       "      <th>race_native hawaiian or other pacific islander</th>\n",
       "      <th>race_white</th>\n",
       "      <th>smoking_former</th>\n",
       "      <th>smoking_never</th>\n",
       "    </tr>\n",
       "  </thead>\n",
       "  <tbody>\n",
       "    <tr>\n",
       "      <td>0</td>\n",
       "      <td>1</td>\n",
       "      <td>1.0</td>\n",
       "      <td>1</td>\n",
       "      <td>1</td>\n",
       "      <td>0.0</td>\n",
       "      <td>0.0</td>\n",
       "      <td>True</td>\n",
       "      <td>0.0</td>\n",
       "      <td>1</td>\n",
       "      <td>0</td>\n",
       "      <td>...</td>\n",
       "      <td>0</td>\n",
       "      <td>0</td>\n",
       "      <td>0</td>\n",
       "      <td>1</td>\n",
       "      <td>0</td>\n",
       "      <td>0</td>\n",
       "      <td>0</td>\n",
       "      <td>0</td>\n",
       "      <td>0</td>\n",
       "      <td>0</td>\n",
       "    </tr>\n",
       "    <tr>\n",
       "      <td>1</td>\n",
       "      <td>1</td>\n",
       "      <td>0.0</td>\n",
       "      <td>1</td>\n",
       "      <td>1</td>\n",
       "      <td>29.0</td>\n",
       "      <td>0.0</td>\n",
       "      <td>True</td>\n",
       "      <td>79.0</td>\n",
       "      <td>0</td>\n",
       "      <td>0</td>\n",
       "      <td>...</td>\n",
       "      <td>0</td>\n",
       "      <td>0</td>\n",
       "      <td>0</td>\n",
       "      <td>1</td>\n",
       "      <td>0</td>\n",
       "      <td>0</td>\n",
       "      <td>0</td>\n",
       "      <td>0</td>\n",
       "      <td>0</td>\n",
       "      <td>1</td>\n",
       "    </tr>\n",
       "    <tr>\n",
       "      <td>2</td>\n",
       "      <td>1</td>\n",
       "      <td>0.0</td>\n",
       "      <td>1</td>\n",
       "      <td>1</td>\n",
       "      <td>66.0</td>\n",
       "      <td>1.0</td>\n",
       "      <td>True</td>\n",
       "      <td>0.0</td>\n",
       "      <td>0</td>\n",
       "      <td>0</td>\n",
       "      <td>...</td>\n",
       "      <td>0</td>\n",
       "      <td>0</td>\n",
       "      <td>0</td>\n",
       "      <td>1</td>\n",
       "      <td>0</td>\n",
       "      <td>0</td>\n",
       "      <td>0</td>\n",
       "      <td>1</td>\n",
       "      <td>0</td>\n",
       "      <td>0</td>\n",
       "    </tr>\n",
       "    <tr>\n",
       "      <td>3</td>\n",
       "      <td>1</td>\n",
       "      <td>1.0</td>\n",
       "      <td>1</td>\n",
       "      <td>1</td>\n",
       "      <td>69.0</td>\n",
       "      <td>0.0</td>\n",
       "      <td>True</td>\n",
       "      <td>0.0</td>\n",
       "      <td>0</td>\n",
       "      <td>0</td>\n",
       "      <td>...</td>\n",
       "      <td>0</td>\n",
       "      <td>0</td>\n",
       "      <td>0</td>\n",
       "      <td>1</td>\n",
       "      <td>0</td>\n",
       "      <td>1</td>\n",
       "      <td>0</td>\n",
       "      <td>0</td>\n",
       "      <td>0</td>\n",
       "      <td>0</td>\n",
       "    </tr>\n",
       "    <tr>\n",
       "      <td>4</td>\n",
       "      <td>1</td>\n",
       "      <td>1.0</td>\n",
       "      <td>1</td>\n",
       "      <td>1</td>\n",
       "      <td>56.0</td>\n",
       "      <td>0.0</td>\n",
       "      <td>True</td>\n",
       "      <td>0.0</td>\n",
       "      <td>0</td>\n",
       "      <td>0</td>\n",
       "      <td>...</td>\n",
       "      <td>0</td>\n",
       "      <td>0</td>\n",
       "      <td>0</td>\n",
       "      <td>0</td>\n",
       "      <td>0</td>\n",
       "      <td>1</td>\n",
       "      <td>0</td>\n",
       "      <td>0</td>\n",
       "      <td>0</td>\n",
       "      <td>1</td>\n",
       "    </tr>\n",
       "  </tbody>\n",
       "</table>\n",
       "<p>5 rows × 25 columns</p>\n",
       "</div>"
      ],
      "text/plain": [
       "   BM15153  BM15154  BM15155  BM15156   age  comind   coq   msd  \\\n",
       "0        1      1.0        1        1   0.0     0.0  True   0.0   \n",
       "1        1      0.0        1        1  29.0     0.0  True  79.0   \n",
       "2        1      0.0        1        1  66.0     1.0  True   0.0   \n",
       "3        1      1.0        1        1  69.0     0.0  True   0.0   \n",
       "4        1      1.0        1        1  56.0     0.0  True   0.0   \n",
       "\n",
       "   institution_goodfellow research institute  \\\n",
       "0                                          1   \n",
       "1                                          0   \n",
       "2                                          0   \n",
       "3                                          0   \n",
       "4                                          0   \n",
       "\n",
       "   institution_johnson & bloom hospitals  ...  dst_d  dst_e  dst_f  \\\n",
       "0                                      0  ...      0      0      0   \n",
       "1                                      0  ...      0      0      0   \n",
       "2                                      0  ...      0      0      0   \n",
       "3                                      0  ...      0      0      0   \n",
       "4                                      0  ...      0      0      0   \n",
       "\n",
       "   gender_male  race_asian  race_black or african american  \\\n",
       "0            1           0                               0   \n",
       "1            1           0                               0   \n",
       "2            1           0                               0   \n",
       "3            1           0                               1   \n",
       "4            0           0                               1   \n",
       "\n",
       "   race_native hawaiian or other pacific islander  race_white  smoking_former  \\\n",
       "0                                               0           0               0   \n",
       "1                                               0           0               0   \n",
       "2                                               0           1               0   \n",
       "3                                               0           0               0   \n",
       "4                                               0           0               0   \n",
       "\n",
       "   smoking_never  \n",
       "0              0  \n",
       "1              1  \n",
       "2              0  \n",
       "3              0  \n",
       "4              1  \n",
       "\n",
       "[5 rows x 25 columns]"
      ]
     },
     "execution_count": 312,
     "metadata": {},
     "output_type": "execute_result"
    }
   ],
   "source": [
    "# let's take a look at the new features\n",
    "dataCleaned.iloc[:,-25:].head()"
   ]
  },
  {
   "cell_type": "code",
   "execution_count": 215,
   "metadata": {},
   "outputs": [
    {
     "ename": "KeyError",
     "evalue": "\"None of [Float64Index([0.0, 1.0, 1.0, 0.0, 0.0, 1.0, 1.0, 0.0, 0.0, 0.0,\\n              ...\\n              1.0, 0.0, 1.0, 1.0, 0.0, 0.0, 0.0, 0.0, 0.0, 0.0],\\n             dtype='float64', length=1734)] are in the [columns]\"",
     "output_type": "error",
     "traceback": [
      "\u001b[1;31m---------------------------------------------------------------------------\u001b[0m",
      "\u001b[1;31mKeyError\u001b[0m                                  Traceback (most recent call last)",
      "\u001b[1;32m<ipython-input-215-ce75241215b5>\u001b[0m in \u001b[0;36m<module>\u001b[1;34m\u001b[0m\n\u001b[1;32m----> 1\u001b[1;33m \u001b[0msns\u001b[0m\u001b[1;33m.\u001b[0m\u001b[0mpairplot\u001b[0m\u001b[1;33m(\u001b[0m\u001b[0mdataCleaned\u001b[0m\u001b[1;33m.\u001b[0m\u001b[0miloc\u001b[0m\u001b[1;33m[\u001b[0m\u001b[1;33m:\u001b[0m\u001b[1;33m,\u001b[0m\u001b[1;33m-\u001b[0m\u001b[1;36m2\u001b[0m\u001b[1;33m:\u001b[0m\u001b[1;33m]\u001b[0m\u001b[1;33m,\u001b[0m\u001b[0mhue\u001b[0m\u001b[1;33m=\u001b[0m\u001b[0mdataCleaned\u001b[0m\u001b[1;33m[\u001b[0m\u001b[1;34m'target'\u001b[0m\u001b[1;33m]\u001b[0m\u001b[1;33m)\u001b[0m\u001b[1;31m#,hue=dataCleaned['target'])\u001b[0m\u001b[1;33m\u001b[0m\u001b[1;33m\u001b[0m\u001b[0m\n\u001b[0m\u001b[0;32m      2\u001b[0m \u001b[1;31m#ax = sns.countplot(x = ['BM10516','age'], hue=\"target\", data = dataCleaned)\u001b[0m\u001b[1;33m\u001b[0m\u001b[1;33m\u001b[0m\u001b[1;33m\u001b[0m\u001b[0m\n",
      "\u001b[1;32m~\\Anaconda3\\lib\\site-packages\\seaborn\\axisgrid.py\u001b[0m in \u001b[0;36mpairplot\u001b[1;34m(data, hue, hue_order, palette, vars, x_vars, y_vars, kind, diag_kind, markers, height, aspect, dropna, plot_kws, diag_kws, grid_kws, size)\u001b[0m\n\u001b[0;32m   2082\u001b[0m                     \u001b[0mhue_order\u001b[0m\u001b[1;33m=\u001b[0m\u001b[0mhue_order\u001b[0m\u001b[1;33m,\u001b[0m \u001b[0mpalette\u001b[0m\u001b[1;33m=\u001b[0m\u001b[0mpalette\u001b[0m\u001b[1;33m,\u001b[0m\u001b[1;33m\u001b[0m\u001b[1;33m\u001b[0m\u001b[0m\n\u001b[0;32m   2083\u001b[0m                     \u001b[0mdiag_sharey\u001b[0m\u001b[1;33m=\u001b[0m\u001b[0mdiag_sharey\u001b[0m\u001b[1;33m,\u001b[0m\u001b[1;33m\u001b[0m\u001b[1;33m\u001b[0m\u001b[0m\n\u001b[1;32m-> 2084\u001b[1;33m                     height=height, aspect=aspect, dropna=dropna, **grid_kws)\n\u001b[0m\u001b[0;32m   2085\u001b[0m \u001b[1;33m\u001b[0m\u001b[0m\n\u001b[0;32m   2086\u001b[0m     \u001b[1;31m# Add the markers here as PairGrid has figured out how many levels of the\u001b[0m\u001b[1;33m\u001b[0m\u001b[1;33m\u001b[0m\u001b[1;33m\u001b[0m\u001b[0m\n",
      "\u001b[1;32m~\\Anaconda3\\lib\\site-packages\\seaborn\\axisgrid.py\u001b[0m in \u001b[0;36m__init__\u001b[1;34m(self, data, hue, hue_order, palette, hue_kws, vars, x_vars, y_vars, diag_sharey, height, aspect, despine, dropna, size)\u001b[0m\n\u001b[0;32m   1288\u001b[0m                                       index=data.index)\n\u001b[0;32m   1289\u001b[0m         \u001b[1;32melse\u001b[0m\u001b[1;33m:\u001b[0m\u001b[1;33m\u001b[0m\u001b[1;33m\u001b[0m\u001b[0m\n\u001b[1;32m-> 1290\u001b[1;33m             \u001b[0mhue_names\u001b[0m \u001b[1;33m=\u001b[0m \u001b[0mutils\u001b[0m\u001b[1;33m.\u001b[0m\u001b[0mcategorical_order\u001b[0m\u001b[1;33m(\u001b[0m\u001b[0mdata\u001b[0m\u001b[1;33m[\u001b[0m\u001b[0mhue\u001b[0m\u001b[1;33m]\u001b[0m\u001b[1;33m,\u001b[0m \u001b[0mhue_order\u001b[0m\u001b[1;33m)\u001b[0m\u001b[1;33m\u001b[0m\u001b[1;33m\u001b[0m\u001b[0m\n\u001b[0m\u001b[0;32m   1291\u001b[0m             \u001b[1;32mif\u001b[0m \u001b[0mdropna\u001b[0m\u001b[1;33m:\u001b[0m\u001b[1;33m\u001b[0m\u001b[1;33m\u001b[0m\u001b[0m\n\u001b[0;32m   1292\u001b[0m                 \u001b[1;31m# Filter NA from the list of unique hue names\u001b[0m\u001b[1;33m\u001b[0m\u001b[1;33m\u001b[0m\u001b[1;33m\u001b[0m\u001b[0m\n",
      "\u001b[1;32m~\\Anaconda3\\lib\\site-packages\\pandas\\core\\frame.py\u001b[0m in \u001b[0;36m__getitem__\u001b[1;34m(self, key)\u001b[0m\n\u001b[0;32m   2984\u001b[0m             \u001b[1;32mif\u001b[0m \u001b[0mis_iterator\u001b[0m\u001b[1;33m(\u001b[0m\u001b[0mkey\u001b[0m\u001b[1;33m)\u001b[0m\u001b[1;33m:\u001b[0m\u001b[1;33m\u001b[0m\u001b[1;33m\u001b[0m\u001b[0m\n\u001b[0;32m   2985\u001b[0m                 \u001b[0mkey\u001b[0m \u001b[1;33m=\u001b[0m \u001b[0mlist\u001b[0m\u001b[1;33m(\u001b[0m\u001b[0mkey\u001b[0m\u001b[1;33m)\u001b[0m\u001b[1;33m\u001b[0m\u001b[1;33m\u001b[0m\u001b[0m\n\u001b[1;32m-> 2986\u001b[1;33m             \u001b[0mindexer\u001b[0m \u001b[1;33m=\u001b[0m \u001b[0mself\u001b[0m\u001b[1;33m.\u001b[0m\u001b[0mloc\u001b[0m\u001b[1;33m.\u001b[0m\u001b[0m_convert_to_indexer\u001b[0m\u001b[1;33m(\u001b[0m\u001b[0mkey\u001b[0m\u001b[1;33m,\u001b[0m \u001b[0maxis\u001b[0m\u001b[1;33m=\u001b[0m\u001b[1;36m1\u001b[0m\u001b[1;33m,\u001b[0m \u001b[0mraise_missing\u001b[0m\u001b[1;33m=\u001b[0m\u001b[1;32mTrue\u001b[0m\u001b[1;33m)\u001b[0m\u001b[1;33m\u001b[0m\u001b[1;33m\u001b[0m\u001b[0m\n\u001b[0m\u001b[0;32m   2987\u001b[0m \u001b[1;33m\u001b[0m\u001b[0m\n\u001b[0;32m   2988\u001b[0m         \u001b[1;31m# take() does not accept boolean indexers\u001b[0m\u001b[1;33m\u001b[0m\u001b[1;33m\u001b[0m\u001b[1;33m\u001b[0m\u001b[0m\n",
      "\u001b[1;32m~\\Anaconda3\\lib\\site-packages\\pandas\\core\\indexing.py\u001b[0m in \u001b[0;36m_convert_to_indexer\u001b[1;34m(self, obj, axis, is_setter, raise_missing)\u001b[0m\n\u001b[0;32m   1283\u001b[0m                 \u001b[1;31m# When setting, missing keys are not allowed, even with .loc:\u001b[0m\u001b[1;33m\u001b[0m\u001b[1;33m\u001b[0m\u001b[1;33m\u001b[0m\u001b[0m\n\u001b[0;32m   1284\u001b[0m                 \u001b[0mkwargs\u001b[0m \u001b[1;33m=\u001b[0m \u001b[1;33m{\u001b[0m\u001b[1;34m\"raise_missing\"\u001b[0m\u001b[1;33m:\u001b[0m \u001b[1;32mTrue\u001b[0m \u001b[1;32mif\u001b[0m \u001b[0mis_setter\u001b[0m \u001b[1;32melse\u001b[0m \u001b[0mraise_missing\u001b[0m\u001b[1;33m}\u001b[0m\u001b[1;33m\u001b[0m\u001b[1;33m\u001b[0m\u001b[0m\n\u001b[1;32m-> 1285\u001b[1;33m                 \u001b[1;32mreturn\u001b[0m \u001b[0mself\u001b[0m\u001b[1;33m.\u001b[0m\u001b[0m_get_listlike_indexer\u001b[0m\u001b[1;33m(\u001b[0m\u001b[0mobj\u001b[0m\u001b[1;33m,\u001b[0m \u001b[0maxis\u001b[0m\u001b[1;33m,\u001b[0m \u001b[1;33m**\u001b[0m\u001b[0mkwargs\u001b[0m\u001b[1;33m)\u001b[0m\u001b[1;33m[\u001b[0m\u001b[1;36m1\u001b[0m\u001b[1;33m]\u001b[0m\u001b[1;33m\u001b[0m\u001b[1;33m\u001b[0m\u001b[0m\n\u001b[0m\u001b[0;32m   1286\u001b[0m         \u001b[1;32melse\u001b[0m\u001b[1;33m:\u001b[0m\u001b[1;33m\u001b[0m\u001b[1;33m\u001b[0m\u001b[0m\n\u001b[0;32m   1287\u001b[0m             \u001b[1;32mtry\u001b[0m\u001b[1;33m:\u001b[0m\u001b[1;33m\u001b[0m\u001b[1;33m\u001b[0m\u001b[0m\n",
      "\u001b[1;32m~\\Anaconda3\\lib\\site-packages\\pandas\\core\\indexing.py\u001b[0m in \u001b[0;36m_get_listlike_indexer\u001b[1;34m(self, key, axis, raise_missing)\u001b[0m\n\u001b[0;32m   1090\u001b[0m \u001b[1;33m\u001b[0m\u001b[0m\n\u001b[0;32m   1091\u001b[0m         self._validate_read_indexer(\n\u001b[1;32m-> 1092\u001b[1;33m             \u001b[0mkeyarr\u001b[0m\u001b[1;33m,\u001b[0m \u001b[0mindexer\u001b[0m\u001b[1;33m,\u001b[0m \u001b[0mo\u001b[0m\u001b[1;33m.\u001b[0m\u001b[0m_get_axis_number\u001b[0m\u001b[1;33m(\u001b[0m\u001b[0maxis\u001b[0m\u001b[1;33m)\u001b[0m\u001b[1;33m,\u001b[0m \u001b[0mraise_missing\u001b[0m\u001b[1;33m=\u001b[0m\u001b[0mraise_missing\u001b[0m\u001b[1;33m\u001b[0m\u001b[1;33m\u001b[0m\u001b[0m\n\u001b[0m\u001b[0;32m   1093\u001b[0m         )\n\u001b[0;32m   1094\u001b[0m         \u001b[1;32mreturn\u001b[0m \u001b[0mkeyarr\u001b[0m\u001b[1;33m,\u001b[0m \u001b[0mindexer\u001b[0m\u001b[1;33m\u001b[0m\u001b[1;33m\u001b[0m\u001b[0m\n",
      "\u001b[1;32m~\\Anaconda3\\lib\\site-packages\\pandas\\core\\indexing.py\u001b[0m in \u001b[0;36m_validate_read_indexer\u001b[1;34m(self, key, indexer, axis, raise_missing)\u001b[0m\n\u001b[0;32m   1175\u001b[0m                 raise KeyError(\n\u001b[0;32m   1176\u001b[0m                     \"None of [{key}] are in the [{axis}]\".format(\n\u001b[1;32m-> 1177\u001b[1;33m                         \u001b[0mkey\u001b[0m\u001b[1;33m=\u001b[0m\u001b[0mkey\u001b[0m\u001b[1;33m,\u001b[0m \u001b[0maxis\u001b[0m\u001b[1;33m=\u001b[0m\u001b[0mself\u001b[0m\u001b[1;33m.\u001b[0m\u001b[0mobj\u001b[0m\u001b[1;33m.\u001b[0m\u001b[0m_get_axis_name\u001b[0m\u001b[1;33m(\u001b[0m\u001b[0maxis\u001b[0m\u001b[1;33m)\u001b[0m\u001b[1;33m\u001b[0m\u001b[1;33m\u001b[0m\u001b[0m\n\u001b[0m\u001b[0;32m   1178\u001b[0m                     )\n\u001b[0;32m   1179\u001b[0m                 )\n",
      "\u001b[1;31mKeyError\u001b[0m: \"None of [Float64Index([0.0, 1.0, 1.0, 0.0, 0.0, 1.0, 1.0, 0.0, 0.0, 0.0,\\n              ...\\n              1.0, 0.0, 1.0, 1.0, 0.0, 0.0, 0.0, 0.0, 0.0, 0.0],\\n             dtype='float64', length=1734)] are in the [columns]\""
     ]
    },
    {
     "data": {
      "image/png": "[encoded data removed]",
      "text/plain": [
       "<Figure size 360x360 with 4 Axes>"
      ]
     },
     "metadata": {
      "needs_background": "light"
     },
     "output_type": "display_data"
    }
   ],
   "source": [
    "sns.pairplot(dataCleaned.iloc[:,-2:],hue=dataCleaned['target'])#,hue=dataCleaned['target'])\n",
    "#ax = sns.countplot(x = ['BM10516','age'], hue=\"target\", data = dataCleaned)"
   ]
  },
  {
   "cell_type": "markdown",
   "metadata": {},
   "source": [
    "# Building a model"
   ]
  },
  {
   "cell_type": "markdown",
   "metadata": {},
   "source": [
    "Now the data is prepared, I made a couple first order attempts at building the model.  To do this I first separate training and test sets.  I started with a RF classifier to get a baseline of predictor strength.  It was clear the data was imbalanced and a boosted algorithm would improve the model.  I then used the Gradient Boosting Classifier and found marked improvement.  Finally, I performed some basic parameter tuning, but found the "
   ]
  },
  {
   "cell_type": "code",
   "execution_count": 313,
   "metadata": {},
   "outputs": [],
   "source": [
    "# First separate the data into test and train sets\n",
    "from sklearn.model_selection import train_test_split\n",
    "from sklearn.metrics import classification_report, confusion_matrix, f1_score\n",
    "X = dataCleaned.drop(['target','biomarker_id','patient_id'],axis=1)\n",
    "y = dataCleaned['target']\n",
    "\n",
    "X_train, X_test, y_train, y_test = train_test_split(X, y, test_size=0.3, random_state=42)"
   ]
  },
  {
   "cell_type": "code",
   "execution_count": 314,
   "metadata": {},
   "outputs": [
    {
     "name": "stdout",
     "output_type": "stream",
     "text": [
      "              precision    recall  f1-score   support\n",
      "\n",
      "         0.0       1.00      0.78      0.88       521\n",
      "         1.0       0.00      0.00      0.00         0\n",
      "\n",
      "    accuracy                           0.78       521\n",
      "   macro avg       0.50      0.39      0.44       521\n",
      "weighted avg       1.00      0.78      0.88       521\n",
      "\n",
      "[[406 115]\n",
      " [  0   0]]\n"
     ]
    },
    {
     "name": "stderr",
     "output_type": "stream",
     "text": [
      "C:\\Users\\ayaei\\Anaconda3\\lib\\site-packages\\sklearn\\metrics\\classification.py:1439: UndefinedMetricWarning: Recall and F-score are ill-defined and being set to 0.0 in labels with no true samples.\n",
      "  'recall', 'true', average, warn_for)\n"
     ]
    }
   ],
   "source": [
    "# Here we get a feeling for how well a RF classifier will do\n",
    "from sklearn.ensemble import RandomForestClassifier\n",
    "model = RandomForestClassifier(n_estimators=50, random_state=101)\n",
    "model.fit(X_train, y_train)\n",
    "predictions = np.round(model.predict(X_test))\n",
    "\n",
    "print(classification_report(predictions, y_test))\n",
    "print(confusion_matrix(predictions, y_test))\n",
    "\n",
    "# We see here because this model is a bit imbalanced, \n",
    "# the best resulting model is as good as naively classifying all outputs as negatives. \n",
    "# While the TN rate is good, the TP is terrible\n",
    "# This is an ideal data set for a boosted approach "
   ]
  },
  {
   "cell_type": "code",
   "execution_count": 356,
   "metadata": {
    "scrolled": false
   },
   "outputs": [
    {
     "name": "stdout",
     "output_type": "stream",
     "text": [
      "\n",
      "Model Report\n",
      "Accuracy : 0.8829\n",
      "AUC Score (Test): 0.932\n",
      "\n",
      "              precision    recall  f1-score   support\n",
      "\n",
      "         0.0       0.99      0.88      0.93       455\n",
      "         1.0       0.52      0.91      0.66        66\n",
      "\n",
      "    accuracy                           0.88       521\n",
      "   macro avg       0.75      0.89      0.80       521\n",
      "weighted avg       0.93      0.88      0.90       521\n",
      "\n",
      "\n",
      "Confusion Matrix\n",
      "[[400  55]\n",
      " [  6  60]]\n",
      "\n",
      "Model Paramters\n",
      "GradientBoostingClassifier(criterion='friedman_mse', init=None,\n",
      "                           learning_rate=0.01, loss='deviance', max_depth=3,\n",
      "                           max_features=None, max_leaf_nodes=None,\n",
      "                           min_impurity_decrease=0.0, min_impurity_split=None,\n",
      "                           min_samples_leaf=1, min_samples_split=2,\n",
      "                           min_weight_fraction_leaf=0.0, n_estimators=150,\n",
      "                           n_iter_no_change=None, presort='auto',\n",
      "                           random_state=101, subsample=1.0, tol=0.0001,\n",
      "                           validation_fraction=0.1, verbose=0,\n",
      "                           warm_start=False)\n"
     ]
    },
    {
     "data": {
      "image/png": "[encoded data removed]",
      "text/plain": [
       "<Figure size 432x288 with 1 Axes>"
      ]
     },
     "metadata": {
      "needs_background": "light"
     },
     "output_type": "display_data"
    }
   ],
   "source": [
    "from sklearn import metrics \n",
    "from sklearn.ensemble import GradientBoostingClassifier\n",
    "from sklearn.model_selection import cross_validate, cross_val_score, GridSearchCV\n",
    "\n",
    "# First order model (no parameter tuning...yet)\n",
    "model = GradientBoostingClassifier(random_state=101, n_estimators=50)\n",
    "model.fit(X_train, y_train)\n",
    "predictions = model.predict(X_test)\n",
    "pred_prob = model.predict_proba(X_test)[:,1]\n",
    "\n",
    "# Print model report\n",
    "print(\"\\nModel Report\")\n",
    "print(\"Accuracy : %.4g\" % metrics.accuracy_score(y_test, predictions))\n",
    "print(\"AUC Score (Test): %4.3f\" % metrics.roc_auc_score(y_test, pred_prob))\n",
    "print(classification_report(predictions, y_test))\n",
    "\n",
    "print(\"\\nConfusion Matrix\")\n",
    "print(confusion_matrix(predictions, y_test))\n",
    "\n",
    "print('\\nModel Paramters')\n",
    "print(model)\n",
    "\n",
    "# Let's take a look at which features are playing the biggest role\n",
    "f_imp = pd.Series(model.feature_importances_, list(X_train)).sort_values(ascending=False)\n",
    "f_imp.iloc[0:20].plot(kind='bar', title='Feature Importance')\n",
    "plt.ylim([0,.1])\n",
    "plt.show()\n"
   ]
  },
  {
   "cell_type": "code",
   "execution_count": 327,
   "metadata": {},
   "outputs": [
    {
     "name": "stdout",
     "output_type": "stream",
     "text": [
      "Fitting 5 folds for each of 8 candidates, totalling 40 fits\n"
     ]
    },
    {
     "name": "stderr",
     "output_type": "stream",
     "text": [
      "[Parallel(n_jobs=4)]: Using backend LokyBackend with 4 concurrent workers.\n",
      "[Parallel(n_jobs=4)]: Done  40 out of  40 | elapsed: 10.6min finished\n"
     ]
    },
    {
     "data": {
      "text/plain": [
       "({'n_estimators': 50}, 0.9241551993190524)"
      ]
     },
     "execution_count": 327,
     "metadata": {},
     "output_type": "execute_result"
    }
   ],
   "source": [
    "# Tuning n_estimators for a learning rate of 0.1\n",
    "# if the best value is found to be greater than 100 (as limited by the computational power of mylaptop)\n",
    "# then I'll have to increase the LR\n",
    "param_test = {'n_estimators':range(25,201,25)}\n",
    "gsearch = GridSearchCV(estimator = GradientBoostingClassifier(learning_rate = 0.1, \n",
    "                                                               min_samples_split = 2,\n",
    "                                                               min_samples_leaf = 1,\n",
    "                                                               max_depth = 3, \n",
    "                                                               max_features = None,\n",
    "                                                               subsample = 0.8, \n",
    "                                                               random_state = 101), \n",
    "                        param_grid = param_test, scoring='roc_auc', n_jobs=4, iid=False, cv=5, verbose=1)\n",
    "gsearch.fit(X_train,y_train)\n",
    "n_estimators_B = gsearch.best_params_['n_estimators']\n",
    "gsearch.best_params_, gsearch.best_score_\n",
    "\n",
    "\n",
    "# Finding a value of 50 shows the LR may be just fine"
   ]
  },
  {
   "cell_type": "code",
   "execution_count": 365,
   "metadata": {},
   "outputs": [
    {
     "name": "stdout",
     "output_type": "stream",
     "text": [
      "Fitting 3 folds for each of 9 candidates, totalling 27 fits\n"
     ]
    },
    {
     "name": "stderr",
     "output_type": "stream",
     "text": [
      "[Parallel(n_jobs=4)]: Using backend LokyBackend with 4 concurrent workers.\n",
      "[Parallel(n_jobs=4)]: Done   5 tasks      | elapsed:   24.4s\n",
      "[Parallel(n_jobs=4)]: Done  10 tasks      | elapsed:  1.1min\n",
      "[Parallel(n_jobs=4)]: Done  17 tasks      | elapsed:  3.2min\n",
      "[Parallel(n_jobs=4)]: Done  23 out of  27 | elapsed:  6.5min remaining:  1.1min\n",
      "[Parallel(n_jobs=4)]: Done  27 out of  27 | elapsed:  8.8min finished\n"
     ]
    },
    {
     "data": {
      "text/plain": [
       "({'max_depth': 5}, 0.9264196321122791)"
      ]
     },
     "execution_count": 365,
     "metadata": {},
     "output_type": "execute_result"
    }
   ],
   "source": [
    "# Let's tune max_depth to keep to smaller trees and prevent overfitting\n",
    "param_test = {'max_depth':range(1,10,1)}\n",
    "gsearch = GridSearchCV(estimator = GradientBoostingClassifier(learning_rate = 0.1, \n",
    "                                                              n_estimators = n_estimators_B,\n",
    "                                                              max_features = None,\n",
    "                                                              min_samples_split = 2, \n",
    "                                                              min_samples_leaf = 1,\n",
    "                                                              subsample = 0.8, \n",
    "                                                              random_state = 101), \n",
    "                        param_grid = param_test, scoring='roc_auc', n_jobs=4, iid=False, cv=3, verbose=1)\n",
    "gsearch.fit(X_train,y_train)\n",
    "max_depth_B = gsearch.best_params_['max_depth']\n",
    "gsearch.best_params_, gsearch.best_score_"
   ]
  },
  {
   "cell_type": "code",
   "execution_count": 372,
   "metadata": {},
   "outputs": [
    {
     "name": "stdout",
     "output_type": "stream",
     "text": [
      "\n",
      "Model Report\n",
      "Accuracy : 0.8925\n",
      "AUC Score (Test): 0.926\n",
      "              precision    recall  f1-score   support\n",
      "\n",
      "         0.0       0.98      0.89      0.93       444\n",
      "         1.0       0.59      0.88      0.71        77\n",
      "\n",
      "    accuracy                           0.89       521\n",
      "   macro avg       0.78      0.89      0.82       521\n",
      "weighted avg       0.92      0.89      0.90       521\n",
      "\n",
      "\n",
      "Confusion Matrix\n",
      "[[397  47]\n",
      " [  9  68]]\n",
      "\n",
      "Model Paramters\n",
      "GradientBoostingClassifier(criterion='friedman_mse', init=None,\n",
      "                           learning_rate=0.1, loss='deviance', max_depth=5,\n",
      "                           max_features=None, max_leaf_nodes=None,\n",
      "                           min_impurity_decrease=0.0, min_impurity_split=None,\n",
      "                           min_samples_leaf=1, min_samples_split=2,\n",
      "                           min_weight_fraction_leaf=0.0, n_estimators=50,\n",
      "                           n_iter_no_change=None, presort='auto',\n",
      "                           random_state=101, subsample=0.8, tol=0.0001,\n",
      "                           validation_fraction=0.1, verbose=0,\n",
      "                           warm_start=False)\n"
     ]
    },
    {
     "data": {
      "image/png": "[encoded data removed]",
      "text/plain": [
       "<Figure size 432x288 with 1 Axes>"
      ]
     },
     "metadata": {
      "needs_background": "light"
     },
     "output_type": "display_data"
    }
   ],
   "source": [
    "# Second order model\n",
    "model = GradientBoostingClassifier(random_state = 101, \n",
    "                                   learning_rate = 0.1, \n",
    "                                   n_estimators = n_estimators_B, \n",
    "                                   max_depth = max_depth_B, \n",
    "                                   min_samples_split = 2, \n",
    "                                   min_samples_leaf = 1,\n",
    "                                   subsample = 0.8)\n",
    "model.fit(X_train, y_train)\n",
    "predictions = model.predict(X_test)\n",
    "pred_prob = model.predict_proba(X_test)[:,1]\n",
    "\n",
    "# Print model report\n",
    "print(\"\\nModel Report\")\n",
    "print(\"Accuracy : %.4g\" % metrics.accuracy_score(y_test, predictions))\n",
    "print(\"AUC Score (Test): %4.3f\" % metrics.roc_auc_score(y_test, pred_prob))\n",
    "print(classification_report(predictions, y_test))\n",
    "\n",
    "print(\"\\nConfusion Matrix\")\n",
    "print(confusion_matrix(predictions, y_test))\n",
    "\n",
    "print('\\nModel Paramters')\n",
    "print(model)\n",
    "\n",
    "# Let's take a look at which features are playing the biggest role\n",
    "f_imp = pd.Series(model.feature_importances_, list(X_train)).sort_values(ascending=False)\n",
    "f_imp.iloc[0:20].plot(kind='bar', title='Feature Importance')\n",
    "plt.ylim([0,.1])\n",
    "plt.show()"
   ]
  },
  {
   "cell_type": "markdown",
   "metadata": {},
   "source": [
    "At a bit of a cost to the TN rate, we see a marked improvement in the TP rate, yielding an overall improvement in accuracy.  We see this in an unchanged F1-score for targets of 0, and improved F1-sore for targets of 1.  "
   ]
  },
  {
   "cell_type": "code",
   "execution_count": null,
   "metadata": {},
   "outputs": [],
   "source": []
  },
  {
   "cell_type": "code",
   "execution_count": null,
   "metadata": {},
   "outputs": [],
   "source": []
  },
  {
   "cell_type": "code",
   "execution_count": null,
   "metadata": {},
   "outputs": [],
   "source": []
  },
  {
   "cell_type": "code",
   "execution_count": null,
   "metadata": {},
   "outputs": [],
   "source": []
  },
  {
   "cell_type": "code",
   "execution_count": null,
   "metadata": {},
   "outputs": [],
   "source": []
  },
  {
   "cell_type": "code",
   "execution_count": null,
   "metadata": {},
   "outputs": [],
   "source": []
  },
  {
   "cell_type": "code",
   "execution_count": null,
   "metadata": {},
   "outputs": [],
   "source": []
  },
  {
   "cell_type": "code",
   "execution_count": null,
   "metadata": {},
   "outputs": [],
   "source": []
  },
  {
   "cell_type": "code",
   "execution_count": null,
   "metadata": {},
   "outputs": [],
   "source": []
  },
  {
   "cell_type": "code",
   "execution_count": null,
   "metadata": {},
   "outputs": [],
   "source": []
  },
  {
   "cell_type": "code",
   "execution_count": null,
   "metadata": {},
   "outputs": [],
   "source": []
  },
  {
   "cell_type": "code",
   "execution_count": null,
   "metadata": {},
   "outputs": [],
   "source": []
  },
  {
   "cell_type": "code",
   "execution_count": 351,
   "metadata": {},
   "outputs": [
    {
     "name": "stdout",
     "output_type": "stream",
     "text": [
      "Fitting 5 folds for each of 60 candidates, totalling 300 fits\n"
     ]
    },
    {
     "name": "stderr",
     "output_type": "stream",
     "text": [
      "[Parallel(n_jobs=4)]: Using backend LokyBackend with 4 concurrent workers.\n",
      "[Parallel(n_jobs=4)]: Done   5 tasks      | elapsed:    8.0s\n",
      "[Parallel(n_jobs=4)]: Done  10 tasks      | elapsed:   10.9s\n",
      "[Parallel(n_jobs=4)]: Done  17 tasks      | elapsed:   16.2s\n",
      "[Parallel(n_jobs=4)]: Done  24 tasks      | elapsed:   19.5s\n",
      "[Parallel(n_jobs=4)]: Done  33 tasks      | elapsed:   26.9s\n",
      "[Parallel(n_jobs=4)]: Done  42 tasks      | elapsed:   32.9s\n",
      "[Parallel(n_jobs=4)]: Done  53 tasks      | elapsed:   41.0s\n",
      "[Parallel(n_jobs=4)]: Done  64 tasks      | elapsed:   51.2s\n",
      "[Parallel(n_jobs=4)]: Done  77 tasks      | elapsed:  1.1min\n",
      "[Parallel(n_jobs=4)]: Done  90 tasks      | elapsed:  1.2min\n",
      "[Parallel(n_jobs=4)]: Done 105 tasks      | elapsed:  1.5min\n",
      "[Parallel(n_jobs=4)]: Done 120 tasks      | elapsed:  1.8min\n",
      "[Parallel(n_jobs=4)]: Done 137 tasks      | elapsed:  2.1min\n",
      "[Parallel(n_jobs=4)]: Done 154 tasks      | elapsed:  2.5min\n",
      "[Parallel(n_jobs=4)]: Done 173 tasks      | elapsed:  3.1min\n",
      "[Parallel(n_jobs=4)]: Done 192 tasks      | elapsed:  3.6min\n",
      "[Parallel(n_jobs=4)]: Done 213 tasks      | elapsed:  4.4min\n",
      "[Parallel(n_jobs=4)]: Done 234 tasks      | elapsed:  4.9min\n",
      "[Parallel(n_jobs=4)]: Done 257 tasks      | elapsed:  5.7min\n",
      "[Parallel(n_jobs=4)]: Done 280 tasks      | elapsed:  6.4min\n",
      "[Parallel(n_jobs=4)]: Done 300 out of 300 | elapsed:  6.8min finished\n"
     ]
    },
    {
     "ename": "KeyError",
     "evalue": "'max_depth'",
     "output_type": "error",
     "traceback": [
      "\u001b[1;31m---------------------------------------------------------------------------\u001b[0m",
      "\u001b[1;31mKeyError\u001b[0m                                  Traceback (most recent call last)",
      "\u001b[1;32m<ipython-input-351-8ebc88ab4556>\u001b[0m in \u001b[0;36m<module>\u001b[1;34m\u001b[0m\n\u001b[0;32m      8\u001b[0m                         param_grid = param_test, scoring='roc_auc', n_jobs=4, iid=False, cv=5,verbose=10)\n\u001b[0;32m      9\u001b[0m \u001b[0mgsearch\u001b[0m\u001b[1;33m.\u001b[0m\u001b[0mfit\u001b[0m\u001b[1;33m(\u001b[0m\u001b[0mX_train\u001b[0m\u001b[1;33m,\u001b[0m \u001b[0my_train\u001b[0m\u001b[1;33m)\u001b[0m\u001b[1;33m\u001b[0m\u001b[1;33m\u001b[0m\u001b[0m\n\u001b[1;32m---> 10\u001b[1;33m \u001b[0mmax_depth_B\u001b[0m \u001b[1;33m=\u001b[0m \u001b[0mgsearch2\u001b[0m\u001b[1;33m.\u001b[0m\u001b[0mbest_params_\u001b[0m\u001b[1;33m[\u001b[0m\u001b[1;34m'max_depth'\u001b[0m\u001b[1;33m]\u001b[0m\u001b[1;33m\u001b[0m\u001b[1;33m\u001b[0m\u001b[0m\n\u001b[0m\u001b[0;32m     11\u001b[0m \u001b[0mmin_samples_split_B\u001b[0m \u001b[1;33m=\u001b[0m \u001b[0mgsearch\u001b[0m\u001b[1;33m.\u001b[0m\u001b[0mbest_params_\u001b[0m\u001b[1;33m[\u001b[0m\u001b[1;34m'min_samples_split'\u001b[0m\u001b[1;33m]\u001b[0m\u001b[1;33m\u001b[0m\u001b[1;33m\u001b[0m\u001b[0m\n\u001b[0;32m     12\u001b[0m \u001b[1;33m\u001b[0m\u001b[0m\n",
      "\u001b[1;31mKeyError\u001b[0m: 'max_depth'"
     ]
    }
   ],
   "source": [
    "# # Tuning max_depth and min_samples_split\n",
    "# param_test = {'max_depth':range(1,8,1), 'min_samples_split':range(2,101,10)}\n",
    "# gsearch = GridSearchCV(estimator = GradientBoostingClassifier(learning_rate = 0.05, \n",
    "#                                                                n_estimators = n_estimators_B,\n",
    "#                                                                max_features = max_features_B, \n",
    "#                                                                subsample = 0.8, \n",
    "#                                                                random_state = 101), \n",
    "#                         param_grid = param_test, scoring='roc_auc', n_jobs=4, iid=False, cv=5,verbose=10)\n",
    "# gsearch.fit(X_train, y_train)\n",
    "# max_depth_B = gsearch.best_params_['max_depth']\n",
    "# #min_samples_split_B = gsearch.best_params_['min_samples_split']\n",
    "\n",
    "# gsearch.best_params_, gsearch.best_score_"
   ]
  },
  {
   "cell_type": "code",
   "execution_count": 364,
   "metadata": {},
   "outputs": [
    {
     "data": {
      "text/plain": [
       "{'mean_fit_time': array([ 13.64224021,  24.98020554,  39.7746892 ,  57.31278396,\n",
       "         80.47684741, 105.32833497, 145.33351707, 153.78347858]),\n",
       " 'std_fit_time': array([ 0.08000497,  0.29568199,  0.244759  ,  0.95035176,  0.88339582,\n",
       "         3.8945603 ,  2.42693935, 11.90430409]),\n",
       " 'mean_score_time': array([0.79720712, 0.86681517, 0.91345374, 0.90566389, 0.94863248,\n",
       "        1.12117386, 1.05875834, 0.59939639]),\n",
       " 'std_score_time': array([0.01657009, 0.09305539, 0.02051317, 0.04591848, 0.0171646 ,\n",
       "        0.17372961, 0.09887241, 0.14943406]),\n",
       " 'param_max_depth': masked_array(data=[2, 3, 4, 5, 6, 7, 8, 9],\n",
       "              mask=[False, False, False, False, False, False, False, False],\n",
       "        fill_value='?',\n",
       "             dtype=object),\n",
       " 'params': [{'max_depth': 2},\n",
       "  {'max_depth': 3},\n",
       "  {'max_depth': 4},\n",
       "  {'max_depth': 5},\n",
       "  {'max_depth': 6},\n",
       "  {'max_depth': 7},\n",
       "  {'max_depth': 8},\n",
       "  {'max_depth': 9}],\n",
       " 'split0_test_score': array([0.93059309, 0.92881525, 0.9244062 , 0.92184611, 0.92508178,\n",
       "        0.92920637, 0.92877969, 0.93151757]),\n",
       " 'split1_test_score': array([0.91544588, 0.91939269, 0.90474328, 0.92454843, 0.91228133,\n",
       "        0.91302802, 0.90915233, 0.91574812]),\n",
       " 'split2_test_score': array([0.91836219, 0.92849928, 0.91378066, 0.93286436, 0.93423521,\n",
       "        0.92662338, 0.92968975, 0.92626263]),\n",
       " 'mean_test_score': array([0.92146705, 0.92556907, 0.91431005, 0.92641963, 0.92386611,\n",
       "        0.92295259, 0.92254059, 0.92450944]),\n",
       " 'std_test_score': array([0.00656199, 0.00436927, 0.00803608, 0.00468875, 0.00900376,\n",
       "        0.00709651, 0.00947422, 0.00655612]),\n",
       " 'rank_test_score': array([7, 2, 8, 1, 4, 5, 6, 3])}"
      ]
     },
     "execution_count": 364,
     "metadata": {},
     "output_type": "execute_result"
    }
   ],
   "source": [
    "gsearch.cv_results_"
   ]
  },
  {
   "cell_type": "code",
   "execution_count": 363,
   "metadata": {},
   "outputs": [
    {
     "name": "stdout",
     "output_type": "stream",
     "text": [
      "\n",
      "Model Report\n",
      "Accuracy : 0.8925\n",
      "AUC Score (Test): 0.926\n",
      "              precision    recall  f1-score   support\n",
      "\n",
      "         0.0       0.98      0.89      0.93       444\n",
      "         1.0       0.59      0.88      0.71        77\n",
      "\n",
      "    accuracy                           0.89       521\n",
      "   macro avg       0.78      0.89      0.82       521\n",
      "weighted avg       0.92      0.89      0.90       521\n",
      "\n",
      "[[397  47]\n",
      " [  9  68]]\n"
     ]
    },
    {
     "data": {
      "image/png": "[encoded data removed]",
      "text/plain": [
       "<Figure size 432x288 with 1 Axes>"
      ]
     },
     "metadata": {
      "needs_background": "light"
     },
     "output_type": "display_data"
    }
   ],
   "source": [
    "# Second order model\n",
    "model = GradientBoostingClassifier(random_state = 101, \n",
    "                                   learning_rate = 0.1, \n",
    "                                   n_estimators = n_estimators_B, \n",
    "                                   max_depth = max_depth_B, #\n",
    "                                   min_samples_split = 2,#min_samples_split_B, #                                   max_features = max_features_B, \n",
    "                                   subsample = 0.8)\n",
    "model.fit(X_train, y_train)\n",
    "predictions = model.predict(X_test)\n",
    "predprob = model.predict_proba(X_test)[:,1]\n",
    "#cv_score = cross_val_score(model, X_train, y_train, cv=5, scoring='roc_auc')\n",
    "\n",
    "# Print model report\n",
    "print(\"\\nModel Report\")\n",
    "print(\"Accuracy : %.4g\" % metrics.accuracy_score(y_test, predictions))\n",
    "print(\"AUC Score (Test): %4.3f\" % metrics.roc_auc_score(y_test, predprob))\n",
    "#print(\"CV Score : Mean = %.7g | Std = %.7g | Min = %.7g | Max = %.7g\" % (np.mean(cv_score),np.std(cv_score),np.min(cv_score),np.max(cv_score)))    \n",
    "print(classification_report(predictions, y_test))\n",
    "print(confusion_matrix(predictions, y_test))\n",
    "\n",
    "\n",
    "feat_imp = pd.Series(model.feature_importances_, list(X_train)).sort_values(ascending=False)\n",
    "feat_imp.iloc[0:20].plot(kind='bar', title='Importance of Features')\n",
    "plt.ylim([0,.1])\n",
    "plt.show() \n"
   ]
  },
  {
   "cell_type": "code",
   "execution_count": 129,
   "metadata": {},
   "outputs": [
    {
     "name": "stdout",
     "output_type": "stream",
     "text": [
      "\n",
      "Model Report\n",
      "Accuracy : 0.8829\n",
      "AUC Score (Test): 0.842\n",
      "CV Score : Mean = 0.5448971 | Std = 0.02682569 | Min = 0.4986523 | Max = 0.5808342\n",
      "              precision    recall  f1-score   support\n",
      "\n",
      "         0.0       0.99      0.88      0.93       455\n",
      "         1.0       0.52      0.91      0.66        66\n",
      "\n",
      "    accuracy                           0.88       521\n",
      "   macro avg       0.75      0.89      0.80       521\n",
      "weighted avg       0.93      0.88      0.90       521\n",
      "\n",
      "[[400  55]\n",
      " [  6  60]]\n"
     ]
    },
    {
     "data": {
      "image/png": "[encoded data removed]",
      "text/plain": [
       "<Figure size 864x288 with 1 Axes>"
      ]
     },
     "metadata": {
      "needs_background": "light"
     },
     "output_type": "display_data"
    }
   ],
   "source": [
    "\n",
    "print(\"\\nModel Report\")\n",
    "print(\"Accuracy : %.4g\" % metrics.accuracy_score(y_test, predictions))\n",
    "print(\"AUC Score (Test): %4.3f\" % metrics.roc_auc_score(y_test, predprob))\n",
    "print(\"CV Score : Mean = %.7g | Std = %.7g | Min = %.7g | Max = %.7g\" % (np.mean(cv_score),np.std(cv_score),np.min(cv_score),np.max(cv_score)))    \n",
    "print(classification_report(predictions, y_test))\n",
    "print(confusion_matrix(predictions, y_test))\n",
    "feat_imp = pd.Series(model.feature_importances_, list(X_train)).sort_values(ascending=False)\n",
    "feat_imp.iloc[0:20].plot(kind='bar', title='Importance of Features')\n",
    "plt.ylim([0,.1])\n",
    "plt.show()\n"
   ]
  },
  {
   "cell_type": "code",
   "execution_count": null,
   "metadata": {},
   "outputs": [],
   "source": []
  },
  {
   "cell_type": "code",
   "execution_count": null,
   "metadata": {},
   "outputs": [],
   "source": []
  },
  {
   "cell_type": "code",
   "execution_count": null,
   "metadata": {},
   "outputs": [],
   "source": []
  },
  {
   "cell_type": "code",
   "execution_count": null,
   "metadata": {},
   "outputs": [],
   "source": []
  },
  {
   "cell_type": "code",
   "execution_count": 89,
   "metadata": {
    "scrolled": true
   },
   "outputs": [
    {
     "ename": "ValueError",
     "evalue": "Classification metrics can't handle a mix of continuous and binary targets",
     "output_type": "error",
     "traceback": [
      "\u001b[1;31m---------------------------------------------------------------------------\u001b[0m",
      "\u001b[1;31mValueError\u001b[0m                                Traceback (most recent call last)",
      "\u001b[1;32m<ipython-input-89-61c3ace7774d>\u001b[0m in \u001b[0;36m<module>\u001b[1;34m\u001b[0m\n\u001b[0;32m      5\u001b[0m \u001b[0mpredictions\u001b[0m \u001b[1;33m=\u001b[0m \u001b[0mrf_exp\u001b[0m\u001b[1;33m.\u001b[0m\u001b[0mpredict\u001b[0m\u001b[1;33m(\u001b[0m\u001b[0mX_test\u001b[0m\u001b[1;33m)\u001b[0m\u001b[1;33m\u001b[0m\u001b[1;33m\u001b[0m\u001b[0m\n\u001b[0;32m      6\u001b[0m \u001b[1;33m\u001b[0m\u001b[0m\n\u001b[1;32m----> 7\u001b[1;33m \u001b[0mprint\u001b[0m\u001b[1;33m(\u001b[0m\u001b[0mclassification_report\u001b[0m\u001b[1;33m(\u001b[0m\u001b[0mpredictions\u001b[0m\u001b[1;33m,\u001b[0m \u001b[0my_test\u001b[0m\u001b[1;33m)\u001b[0m\u001b[1;33m)\u001b[0m\u001b[1;33m\u001b[0m\u001b[1;33m\u001b[0m\u001b[0m\n\u001b[0m\u001b[0;32m      8\u001b[0m \u001b[0mprint\u001b[0m\u001b[1;33m(\u001b[0m\u001b[0mconfusion_matrix\u001b[0m\u001b[1;33m(\u001b[0m\u001b[0mpredictions\u001b[0m\u001b[1;33m,\u001b[0m \u001b[0my_test\u001b[0m\u001b[1;33m)\u001b[0m\u001b[1;33m)\u001b[0m\u001b[1;33m\u001b[0m\u001b[1;33m\u001b[0m\u001b[0m\n",
      "\u001b[1;32m~\\Anaconda3\\lib\\site-packages\\sklearn\\metrics\\classification.py\u001b[0m in \u001b[0;36mclassification_report\u001b[1;34m(y_true, y_pred, labels, target_names, sample_weight, digits, output_dict)\u001b[0m\n\u001b[0;32m   1850\u001b[0m     \"\"\"\n\u001b[0;32m   1851\u001b[0m \u001b[1;33m\u001b[0m\u001b[0m\n\u001b[1;32m-> 1852\u001b[1;33m     \u001b[0my_type\u001b[0m\u001b[1;33m,\u001b[0m \u001b[0my_true\u001b[0m\u001b[1;33m,\u001b[0m \u001b[0my_pred\u001b[0m \u001b[1;33m=\u001b[0m \u001b[0m_check_targets\u001b[0m\u001b[1;33m(\u001b[0m\u001b[0my_true\u001b[0m\u001b[1;33m,\u001b[0m \u001b[0my_pred\u001b[0m\u001b[1;33m)\u001b[0m\u001b[1;33m\u001b[0m\u001b[1;33m\u001b[0m\u001b[0m\n\u001b[0m\u001b[0;32m   1853\u001b[0m \u001b[1;33m\u001b[0m\u001b[0m\n\u001b[0;32m   1854\u001b[0m     \u001b[0mlabels_given\u001b[0m \u001b[1;33m=\u001b[0m \u001b[1;32mTrue\u001b[0m\u001b[1;33m\u001b[0m\u001b[1;33m\u001b[0m\u001b[0m\n",
      "\u001b[1;32m~\\Anaconda3\\lib\\site-packages\\sklearn\\metrics\\classification.py\u001b[0m in \u001b[0;36m_check_targets\u001b[1;34m(y_true, y_pred)\u001b[0m\n\u001b[0;32m     79\u001b[0m     \u001b[1;32mif\u001b[0m \u001b[0mlen\u001b[0m\u001b[1;33m(\u001b[0m\u001b[0my_type\u001b[0m\u001b[1;33m)\u001b[0m \u001b[1;33m>\u001b[0m \u001b[1;36m1\u001b[0m\u001b[1;33m:\u001b[0m\u001b[1;33m\u001b[0m\u001b[1;33m\u001b[0m\u001b[0m\n\u001b[0;32m     80\u001b[0m         raise ValueError(\"Classification metrics can't handle a mix of {0} \"\n\u001b[1;32m---> 81\u001b[1;33m                          \"and {1} targets\".format(type_true, type_pred))\n\u001b[0m\u001b[0;32m     82\u001b[0m \u001b[1;33m\u001b[0m\u001b[0m\n\u001b[0;32m     83\u001b[0m     \u001b[1;31m# We can't have more than one value on y_type => The set is no more needed\u001b[0m\u001b[1;33m\u001b[0m\u001b[1;33m\u001b[0m\u001b[1;33m\u001b[0m\u001b[0m\n",
      "\u001b[1;31mValueError\u001b[0m: Classification metrics can't handle a mix of continuous and binary targets"
     ]
    }
   ],
   "source": [
    "from sklearn.ensemble import RandomForestRegressor,RandomForestClassifier\n",
    "rf_exp = RandomForestRegressor(n_estimators= 500, random_state=100)\n",
    "#rf_exp = RandomForestClassifier(n_estimators= 500, random_state=100, criterion='gini')\n",
    "rf_exp.fit(X_train, y_train)\n",
    "predictions = np.round(rf_exp.predict(X_test))\n",
    "\n",
    "print(classification_report(predictions, y_test))\n",
    "print(confusion_matrix(predictions, y_test))"
   ]
  },
  {
   "cell_type": "code",
   "execution_count": 90,
   "metadata": {},
   "outputs": [
    {
     "name": "stdout",
     "output_type": "stream",
     "text": [
      "              precision    recall  f1-score   support\n",
      "\n",
      "         0.0       0.99      0.88      0.93       764\n",
      "         1.0       0.50      0.91      0.64       103\n",
      "\n",
      "    accuracy                           0.88       867\n",
      "   macro avg       0.74      0.89      0.79       867\n",
      "weighted avg       0.93      0.88      0.89       867\n",
      "\n",
      "[[669  95]\n",
      " [  9  94]]\n"
     ]
    }
   ],
   "source": [
    "#np.mean(np.round(predictions)!=test_labels)\n",
    "predictions = np.round(predictions)\n",
    "#predictions2 = False * np.ones(predictions.shape)\n",
    "print(classification_report(predictions, y_test))\n",
    "print(confusion_matrix(predictions, y_test))\n"
   ]
  },
  {
   "cell_type": "code",
   "execution_count": 55,
   "metadata": {},
   "outputs": [
    {
     "name": "stderr",
     "output_type": "stream",
     "text": [
      "C:\\Users\\ayaei\\Anaconda3\\lib\\site-packages\\sklearn\\linear_model\\logistic.py:432: FutureWarning: Default solver will be changed to 'lbfgs' in 0.22. Specify a solver to silence this warning.\n",
      "  FutureWarning)\n"
     ]
    },
    {
     "name": "stdout",
     "output_type": "stream",
     "text": [
      "              precision    recall  f1-score   support\n",
      "\n",
      "         0.0       1.00      0.77      0.87       572\n",
      "         1.0       0.00      0.00      0.00         1\n",
      "\n",
      "    accuracy                           0.77       573\n",
      "   macro avg       0.50      0.39      0.44       573\n",
      "weighted avg       1.00      0.77      0.87       573\n",
      "\n",
      "[[443 129]\n",
      " [  1   0]]\n"
     ]
    }
   ],
   "source": [
    "from sklearn.linear_model import LogisticRegression\n",
    "from sklearn.metrics import classification_report, confusion_matrix, f1_score\n",
    "logmodel = LogisticRegression()\n",
    "logmodel.fit(X_train,y_train)\n",
    "predictions = logmodel.predict(X_test)\n",
    "print(classification_report(predictions,y_test))\n",
    "print(confusion_matrix(predictions,y_test))"
   ]
  },
  {
   "cell_type": "code",
   "execution_count": null,
   "metadata": {},
   "outputs": [],
   "source": []
  },
  {
   "cell_type": "markdown",
   "metadata": {},
   "source": [
    "# Neural Network"
   ]
  },
  {
   "cell_type": "code",
   "execution_count": 93,
   "metadata": {},
   "outputs": [
    {
     "ename": "ModuleNotFoundError",
     "evalue": "No module named 'tensorflow'",
     "output_type": "error",
     "traceback": [
      "\u001b[1;31m---------------------------------------------------------------------------\u001b[0m",
      "\u001b[1;31mModuleNotFoundError\u001b[0m                       Traceback (most recent call last)",
      "\u001b[1;32m<ipython-input-93-6128dfd598f2>\u001b[0m in \u001b[0;36m<module>\u001b[1;34m\u001b[0m\n\u001b[1;32m----> 1\u001b[1;33m \u001b[1;32mfrom\u001b[0m \u001b[0mtensorflow\u001b[0m\u001b[1;33m.\u001b[0m\u001b[0mkeras\u001b[0m\u001b[1;33m.\u001b[0m\u001b[0mmodels\u001b[0m \u001b[1;32mimport\u001b[0m \u001b[0mSequential\u001b[0m\u001b[1;33m\u001b[0m\u001b[1;33m\u001b[0m\u001b[0m\n\u001b[0m\u001b[0;32m      2\u001b[0m \u001b[1;32mfrom\u001b[0m \u001b[0mtensorflow\u001b[0m\u001b[1;33m.\u001b[0m\u001b[0mkeras\u001b[0m\u001b[1;33m.\u001b[0m\u001b[0mlayers\u001b[0m \u001b[1;32mimport\u001b[0m \u001b[0mDense\u001b[0m\u001b[1;33m\u001b[0m\u001b[1;33m\u001b[0m\u001b[0m\n\u001b[0;32m      3\u001b[0m \u001b[0mmodel\u001b[0m \u001b[1;33m=\u001b[0m \u001b[0mSequential\u001b[0m\u001b[1;33m(\u001b[0m\u001b[1;33m)\u001b[0m\u001b[1;33m\u001b[0m\u001b[1;33m\u001b[0m\u001b[0m\n\u001b[0;32m      4\u001b[0m \u001b[0mmodel\u001b[0m\u001b[1;33m.\u001b[0m\u001b[0madd\u001b[0m\u001b[1;33m(\u001b[0m\u001b[0mDense\u001b[0m\u001b[1;33m(\u001b[0m\u001b[1;36m4\u001b[0m\u001b[1;33m,\u001b[0m\u001b[0mactivation\u001b[0m\u001b[1;33m=\u001b[0m\u001b[1;34m'relu'\u001b[0m\u001b[1;33m)\u001b[0m\u001b[1;33m)\u001b[0m\u001b[1;33m\u001b[0m\u001b[1;33m\u001b[0m\u001b[0m\n\u001b[0;32m      5\u001b[0m \u001b[0mmodel\u001b[0m\u001b[1;33m.\u001b[0m\u001b[0madd\u001b[0m\u001b[1;33m(\u001b[0m\u001b[0mDense\u001b[0m\u001b[1;33m(\u001b[0m\u001b[1;36m4\u001b[0m\u001b[1;33m,\u001b[0m\u001b[0mactivation\u001b[0m\u001b[1;33m=\u001b[0m\u001b[1;34m'relu'\u001b[0m\u001b[1;33m)\u001b[0m\u001b[1;33m)\u001b[0m\u001b[1;33m\u001b[0m\u001b[1;33m\u001b[0m\u001b[0m\n",
      "\u001b[1;31mModuleNotFoundError\u001b[0m: No module named 'tensorflow'"
     ]
    }
   ],
   "source": [
    "from tensorflow.keras.models import Sequential\n",
    "from tensorflow.keras.layers import Dense\n",
    "model = Sequential()\n",
    "model.add(Dense(4,activation='relu'))\n",
    "model.add(Dense(4,activation='relu'))\n",
    "model.add(Dense(4,activation='relu'))\n",
    "model.add(Dense(1)) \n",
    "model.compile(optimizer='rmsprop',loss='mse')  # optimzer depends on type of problem (binary, multiclass or regression)\n",
    "\n",
    "model.fit(x=X_train,y=y_train, epochs=250,verbose=0)\n",
    "predictions = np.round(model.predict(X_test))\n",
    "print(classification_report(predictions,y_test))\n",
    "print(confusion_matrix(predictions,y_test))"
   ]
  },
  {
   "cell_type": "code",
   "execution_count": null,
   "metadata": {},
   "outputs": [],
   "source": []
  },
  {
   "cell_type": "code",
   "execution_count": null,
   "metadata": {},
   "outputs": [],
   "source": [
    "loss_df = pd.DataFrame(model.history.history)\n",
    "loss_df.plot()"
   ]
  },
  {
   "cell_type": "code",
   "execution_count": null,
   "metadata": {},
   "outputs": [],
   "source": []
  },
  {
   "cell_type": "code",
   "execution_count": null,
   "metadata": {},
   "outputs": [],
   "source": [
    "print(classification_report(predictions,y_test))\n",
    "print(confusion_matrix(predictions,y_test))\n"
   ]
  },
  {
   "cell_type": "code",
   "execution_count": null,
   "metadata": {},
   "outputs": [],
   "source": []
  },
  {
   "cell_type": "code",
   "execution_count": 14,
   "metadata": {},
   "outputs": [
    {
     "data": {
      "text/plain": [
       "DecisionTreeClassifier(class_weight=None, criterion='gini', max_depth=None,\n",
       "                       max_features=None, max_leaf_nodes=None,\n",
       "                       min_impurity_decrease=0.0, min_impurity_split=None,\n",
       "                       min_samples_leaf=1, min_samples_split=2,\n",
       "                       min_weight_fraction_leaf=0.0, presort=False,\n",
       "                       random_state=0, splitter='best')"
      ]
     },
     "execution_count": 14,
     "metadata": {},
     "output_type": "execute_result"
    }
   ],
   "source": [
    "from sklearn.tree import DecisionTreeClassifier\n",
    "dtree = DecisionTreeClassifier(random_state=0)\n",
    "dtree.fit(X_train,y_train)"
   ]
  },
  {
   "cell_type": "code",
   "execution_count": 15,
   "metadata": {},
   "outputs": [],
   "source": [
    "from sklearn.metrics import classification_report, confusion_matrix, f1_score"
   ]
  },
  {
   "cell_type": "code",
   "execution_count": 16,
   "metadata": {},
   "outputs": [
    {
     "name": "stdout",
     "output_type": "stream",
     "text": [
      "              precision    recall  f1-score   support\n",
      "\n",
      "           0       0.90      0.79      0.84       478\n",
      "           1       0.11      0.22      0.14        54\n",
      "\n",
      "    accuracy                           0.73       532\n",
      "   macro avg       0.50      0.51      0.49       532\n",
      "weighted avg       0.82      0.73      0.77       532\n",
      "\n",
      "[[377 101]\n",
      " [ 42  12]]\n"
     ]
    }
   ],
   "source": [
    "predictions = dtree.predict(X_test)\n",
    "print(classification_report(predictions,y_test))\n",
    "print(confusion_matrix(predictions,y_test))"
   ]
  },
  {
   "cell_type": "code",
   "execution_count": null,
   "metadata": {},
   "outputs": [],
   "source": [
    "\n"
   ]
  },
  {
   "cell_type": "code",
   "execution_count": null,
   "metadata": {},
   "outputs": [],
   "source": []
  },
  {
   "cell_type": "code",
   "execution_count": 17,
   "metadata": {},
   "outputs": [
    {
     "data": {
      "text/plain": [
       "AdaBoostClassifier(algorithm='SAMME.R', base_estimator=None, learning_rate=1.0,\n",
       "                   n_estimators=100, random_state=0)"
      ]
     },
     "execution_count": 17,
     "metadata": {},
     "output_type": "execute_result"
    }
   ],
   "source": [
    "from sklearn.ensemble import AdaBoostClassifier\n",
    "from sklearn.datasets import make_classification\n",
    "clf = AdaBoostClassifier(n_estimators=100, random_state=0)\n",
    "clf.fit(X_train, y_train)"
   ]
  },
  {
   "cell_type": "code",
   "execution_count": 18,
   "metadata": {},
   "outputs": [
    {
     "name": "stdout",
     "output_type": "stream",
     "text": [
      "              precision    recall  f1-score   support\n",
      "\n",
      "           0       0.99      0.79      0.88       524\n",
      "           1       0.03      0.38      0.05         8\n",
      "\n",
      "    accuracy                           0.78       532\n",
      "   macro avg       0.51      0.58      0.46       532\n",
      "weighted avg       0.97      0.78      0.87       532\n",
      "\n",
      "[[414 110]\n",
      " [  5   3]]\n"
     ]
    }
   ],
   "source": [
    "clf.feature_importances_\n",
    "predictions = clf.predict(X_test)\n",
    "\n",
    "print(classification_report(predictions,y_test))\n",
    "print(confusion_matrix(predictions,y_test))"
   ]
  },
  {
   "cell_type": "code",
   "execution_count": null,
   "metadata": {},
   "outputs": [],
   "source": []
  },
  {
   "cell_type": "code",
   "execution_count": null,
   "metadata": {},
   "outputs": [],
   "source": []
  },
  {
   "cell_type": "code",
   "execution_count": null,
   "metadata": {},
   "outputs": [],
   "source": []
  },
  {
   "cell_type": "code",
   "execution_count": 19,
   "metadata": {},
   "outputs": [],
   "source": [
    "from sklearn.ensemble import RandomForestClassifier"
   ]
  },
  {
   "cell_type": "code",
   "execution_count": 22,
   "metadata": {},
   "outputs": [
    {
     "name": "stdout",
     "output_type": "stream",
     "text": [
      "[[375 101]\n",
      " [ 44  12]]\n",
      "\n",
      "\n",
      "              precision    recall  f1-score   support\n",
      "\n",
      "           0       0.89      0.79      0.84       476\n",
      "           1       0.11      0.21      0.14        56\n",
      "\n",
      "    accuracy                           0.73       532\n",
      "   macro avg       0.50      0.50      0.49       532\n",
      "weighted avg       0.81      0.73      0.76       532\n",
      "\n"
     ]
    },
    {
     "data": {
      "image/png": "[encoded data removed]",
      "text/plain": [
       "<Figure size 720x360 with 1 Axes>"
      ]
     },
     "metadata": {
      "needs_background": "light"
     },
     "output_type": "display_data"
    }
   ],
   "source": [
    "err = []\n",
    "for i in range(1,100):\n",
    "    rfc = RandomForestClassifier(n_estimators=i)\n",
    "    rfc.fit(X_train, y_train)\n",
    "    rfc_predictions = rfc.predict(X_test)\n",
    "    err.append(np.mean(rfc_predictions!=y_test))\n",
    "    #err.append(f1_score(y_test, rfc_predictions, average='weighted'))\n",
    "\n",
    "plt.figure(figsize=(10,5))\n",
    "plt.plot(range(1,100),err)  \n",
    "\n",
    "rfc = RandomForestClassifier(n_estimators=11)\n",
    "rfc.fit(X_train, y_train)\n",
    "rfc_predictions = rfc.predict(X_test)\n",
    "#err.append(np.mean(rfc_predictions!=y_test))    \n",
    "    \n",
    "print(confusion_matrix(rfc_predictions,y_test))\n",
    "print('\\n')\n",
    "print(classification_report(rfc_predictions,y_test))"
   ]
  },
  {
   "cell_type": "code",
   "execution_count": null,
   "metadata": {},
   "outputs": [],
   "source": [
    "plt.figure(figsize=(10,5))\n",
    "plt.plot(range(1,100),err)    "
   ]
  },
  {
   "cell_type": "code",
   "execution_count": 23,
   "metadata": {},
   "outputs": [
    {
     "name": "stdout",
     "output_type": "stream",
     "text": [
      "[[419   0]\n",
      " [113   0]]\n",
      "              precision    recall  f1-score   support\n",
      "\n",
      "           0       0.79      1.00      0.88       419\n",
      "           1       0.00      0.00      0.00       113\n",
      "\n",
      "    accuracy                           0.79       532\n",
      "   macro avg       0.39      0.50      0.44       532\n",
      "weighted avg       0.62      0.79      0.69       532\n",
      "\n"
     ]
    },
    {
     "name": "stderr",
     "output_type": "stream",
     "text": [
      "C:\\Users\\ayaei\\Anaconda3\\lib\\site-packages\\sklearn\\svm\\base.py:193: FutureWarning: The default value of gamma will change from 'auto' to 'scale' in version 0.22 to account better for unscaled features. Set gamma explicitly to 'auto' or 'scale' to avoid this warning.\n",
      "  \"avoid this warning.\", FutureWarning)\n",
      "C:\\Users\\ayaei\\Anaconda3\\lib\\site-packages\\sklearn\\metrics\\classification.py:1437: UndefinedMetricWarning: Precision and F-score are ill-defined and being set to 0.0 in labels with no predicted samples.\n",
      "  'precision', 'predicted', average, warn_for)\n"
     ]
    }
   ],
   "source": [
    "from sklearn.svm import SVC\n",
    "model = SVC()\n",
    "model.fit(X_train,y_train)\n",
    "predictions = model.predict(X_test)\n",
    "print(confusion_matrix(y_test,predictions))\n",
    "print(classification_report(y_test,predictions))"
   ]
  },
  {
   "cell_type": "code",
   "execution_count": null,
   "metadata": {},
   "outputs": [],
   "source": [
    "\n",
    "# C controls the cost of misclassification of training\n",
    "# large C gives low bias and high variance (overfitting) because you penalize the cost of misclassification\n",
    "# low C underfits (high bias, low variance)\n",
    "\n",
    "# gamma: radial basis function, gamma is a free param in it, small gamma gives a gaussian with a higher vairnace\n",
    "# large gamma -> high variance low bias\n",
    "# default gamma = 1/n_features\n",
    "from sklearn.model_selection import GridSearchCV\n",
    "param_grid = {'C':[.001, .01, 0.1], 'gamma':[10,1,.1]}\n",
    "grid = GridSearchCV(SVC(), param_grid, verbose=3)\n",
    "grid.fit(X_train, y_train)\n",
    "grid.best_params_\n",
    "grid.best_estimator_\n",
    "grid_predictions = grid.predict(X_test)\n"
   ]
  },
  {
   "cell_type": "code",
   "execution_count": null,
   "metadata": {},
   "outputs": [],
   "source": [
    "print(confusion_matrix(y_test,grid_predictions))\n",
    "print(classification_report(y_test,grid_predictions))\n",
    "grid.best_params_"
   ]
  },
  {
   "cell_type": "code",
   "execution_count": 24,
   "metadata": {},
   "outputs": [
    {
     "name": "stderr",
     "output_type": "stream",
     "text": [
      "C:\\Users\\ayaei\\Anaconda3\\lib\\site-packages\\sklearn\\linear_model\\logistic.py:432: FutureWarning: Default solver will be changed to 'lbfgs' in 0.22. Specify a solver to silence this warning.\n",
      "  FutureWarning)\n"
     ]
    },
    {
     "ename": "NameError",
     "evalue": "name 'grid_predictions' is not defined",
     "output_type": "error",
     "traceback": [
      "\u001b[1;31m---------------------------------------------------------------------------\u001b[0m",
      "\u001b[1;31mNameError\u001b[0m                                 Traceback (most recent call last)",
      "\u001b[1;32m<ipython-input-24-341dcd5018ec>\u001b[0m in \u001b[0;36m<module>\u001b[1;34m\u001b[0m\n\u001b[0;32m      3\u001b[0m \u001b[0mlogmodel\u001b[0m\u001b[1;33m.\u001b[0m\u001b[0mfit\u001b[0m\u001b[1;33m(\u001b[0m\u001b[0mX_train\u001b[0m\u001b[1;33m,\u001b[0m\u001b[0my_train\u001b[0m\u001b[1;33m)\u001b[0m\u001b[1;33m\u001b[0m\u001b[1;33m\u001b[0m\u001b[0m\n\u001b[0;32m      4\u001b[0m \u001b[0mpredictions\u001b[0m \u001b[1;33m=\u001b[0m \u001b[0mlogmodel\u001b[0m\u001b[1;33m.\u001b[0m\u001b[0mpredict\u001b[0m\u001b[1;33m(\u001b[0m\u001b[0mX_test\u001b[0m\u001b[1;33m)\u001b[0m\u001b[1;33m\u001b[0m\u001b[1;33m\u001b[0m\u001b[0m\n\u001b[1;32m----> 5\u001b[1;33m \u001b[0mprint\u001b[0m\u001b[1;33m(\u001b[0m\u001b[0mconfusion_matrix\u001b[0m\u001b[1;33m(\u001b[0m\u001b[0my_test\u001b[0m\u001b[1;33m,\u001b[0m\u001b[0mgrid_predictions\u001b[0m\u001b[1;33m)\u001b[0m\u001b[1;33m)\u001b[0m\u001b[1;33m\u001b[0m\u001b[1;33m\u001b[0m\u001b[0m\n\u001b[0m\u001b[0;32m      6\u001b[0m \u001b[0mprint\u001b[0m\u001b[1;33m(\u001b[0m\u001b[0mclassification_report\u001b[0m\u001b[1;33m(\u001b[0m\u001b[0my_test\u001b[0m\u001b[1;33m,\u001b[0m\u001b[0mgrid_predictions\u001b[0m\u001b[1;33m)\u001b[0m\u001b[1;33m)\u001b[0m\u001b[1;33m\u001b[0m\u001b[1;33m\u001b[0m\u001b[0m\n",
      "\u001b[1;31mNameError\u001b[0m: name 'grid_predictions' is not defined"
     ]
    }
   ],
   "source": [
    "from sklearn.linear_model import LogisticRegression\n",
    "logmodel = LogisticRegression(max_iter=500)\n",
    "logmodel.fit(X_train,y_train)\n",
    "predictions = logmodel.predict(X_test)\n",
    "print(confusion_matrix(y_test,grid_predictions))\n",
    "print(classification_report(y_test,grid_predictions))"
   ]
  },
  {
   "cell_type": "code",
   "execution_count": null,
   "metadata": {},
   "outputs": [],
   "source": [
    "logmodel"
   ]
  },
  {
   "cell_type": "code",
   "execution_count": null,
   "metadata": {},
   "outputs": [],
   "source": []
  },
  {
   "cell_type": "code",
   "execution_count": null,
   "metadata": {},
   "outputs": [],
   "source": [
    "#data['dst'].loc[data['biomarker_id']==pid] = check(patient_profiles[inst_ind][\"patient_profiles\"][pat_ind]['status'].get('disease_sub_type')\n",
    "                                                   \n",
    "                                                   \n",
    "#check(patient_profiles[inst_ind][\"patient_profiles\"][pat_ind]['status'].get('disease_sub_type'))\n",
    "data['dst'].loc[data['biomarker_id']==pid]\n",
    "data.loc[data['biomarker_id']==pid]\n",
    "data.head(20)\n",
    "\n",
    "\n",
    "def check(val):\n",
    "    if val:\n",
    "        return val\n",
    "    else:\n",
    "        return np.nan\n",
    "    \n",
    "    \n",
    "print(check(patient_profiles[inst_ind][\"patient_profiles\"][0]['demographics'].get('race')))\n",
    "print(check(patient_profiles[inst_ind][\"patient_profiles\"][1]['demographics'].get('race')))\n",
    "\n",
    "\n",
    "print(check(patient_profiles[1][\"patient_profiles\"][2]['demographics'].get('race')))\n",
    "\n",
    "print(check(patient_profiles[6][\"patient_profiles\"][0]['demographics'].get('race')))\n",
    "\n",
    "\n",
    "\n",
    "#data['dst'].loc[data['biomarker_id']==pid] = patient_profiles[inst_ind][\"patient_profiles\"][pat_ind]['status']['disease_sub_type']\n",
    "        \n",
    "#data.head()    \n",
    "#data.isin(['89c43bb4'])    \n",
    "#data[data['biomarker_id']=='89c43bb4']['institution'] = patient_profiles[0][\"institution\"]\n",
    "#data['institution'].loc[data['biomarker_id']=='89c43bb4'] = patient_profiles[0][\"institution\"]\n",
    "\n",
    "#inst_ind = 1\n",
    "#pat_ind = 2\n",
    "#patient_profiles[inst_ind][\"patient_profiles\"][pat_ind]['patient_id']\n",
    "#patient_profiles[inst_ind][\"patient_profiles\"][pat_ind]['demographics']['gender']\n"
   ]
  },
  {
   "cell_type": "code",
   "execution_count": null,
   "metadata": {},
   "outputs": [],
   "source": []
  },
  {
   "cell_type": "code",
   "execution_count": null,
   "metadata": {},
   "outputs": [],
   "source": [
    "data.head()"
   ]
  },
  {
   "cell_type": "code",
   "execution_count": null,
   "metadata": {},
   "outputs": [],
   "source": []
  },
  {
   "cell_type": "code",
   "execution_count": null,
   "metadata": {},
   "outputs": [],
   "source": [
    "#len(patient_profiles[0][\"patient_profiles\"])\n",
    "#pid = patient_profiles[0][\"patient_profiles\"][0]['patient_id']\n",
    "#pid\n",
    "#data.loc['10e32947f']\n",
    "\n",
    "patient_profiles[0][\"institution\"]"
   ]
  },
  {
   "cell_type": "code",
   "execution_count": null,
   "metadata": {
    "scrolled": false
   },
   "outputs": [],
   "source": [
    "print(json.dumps(patient_profiles, indent=4))\n",
    "#patient_profiles[2][\"institution\"]\n"
   ]
  }
 ],
 "metadata": {
  "kernelspec": {
   "display_name": "Python 3",
   "language": "python",
   "name": "python3"
  },
  "language_info": {
   "codemirror_mode": {
    "name": "ipython",
    "version": 3
   },
   "file_extension": ".py",
   "mimetype": "text/x-python",
   "name": "python",
   "nbconvert_exporter": "python",
   "pygments_lexer": "ipython3",
   "version": "3.7.4"
  }
 },
 "nbformat": 4,
 "nbformat_minor": 2
}
